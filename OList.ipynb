{
 "cells": [
  {
   "cell_type": "code",
   "execution_count": 1,
   "metadata": {},
   "outputs": [],
   "source": [
    "# !pip install seaborn"
   ]
  },
  {
   "cell_type": "code",
   "execution_count": 2,
   "metadata": {},
   "outputs": [],
   "source": [
    "import numpy as np\n",
    "import pandas as pd\n",
    "import seaborn as sns\n",
    "import matplotlib.pyplot as plt\n",
    "from sklearn.metrics import mean_squared_error, r2_score, mean_absolute_error\n",
    "\n",
    "# code to print inline without print statements\n",
    "from IPython.core.interactiveshell import InteractiveShell\n",
    "InteractiveShell.ast_node_interactivity = \"all\"\n",
    "\n",
    "# to reduce scikit warnings\n",
    "import warnings\n",
    "warnings.filterwarnings(\"ignore\", category=DeprecationWarning)\n",
    "warnings.simplefilter('ignore', category=FutureWarning)"
   ]
  },
  {
   "cell_type": "markdown",
   "metadata": {},
   "source": [
    "# Marketing Qualified Leads (MQL) Dataset"
   ]
  },
  {
   "cell_type": "code",
   "execution_count": 3,
   "metadata": {},
   "outputs": [
    {
     "data": {
      "text/html": [
       "<div>\n",
       "<style scoped>\n",
       "    .dataframe tbody tr th:only-of-type {\n",
       "        vertical-align: middle;\n",
       "    }\n",
       "\n",
       "    .dataframe tbody tr th {\n",
       "        vertical-align: top;\n",
       "    }\n",
       "\n",
       "    .dataframe thead th {\n",
       "        text-align: right;\n",
       "    }\n",
       "</style>\n",
       "<table border=\"1\" class=\"dataframe\">\n",
       "  <thead>\n",
       "    <tr style=\"text-align: right;\">\n",
       "      <th></th>\n",
       "      <th>mql_id</th>\n",
       "      <th>first_contact_date</th>\n",
       "      <th>landing_page_id</th>\n",
       "      <th>origin</th>\n",
       "    </tr>\n",
       "  </thead>\n",
       "  <tbody>\n",
       "    <tr>\n",
       "      <th>0</th>\n",
       "      <td>dac32acd4db4c29c230538b72f8dd87d</td>\n",
       "      <td>2018-02-01</td>\n",
       "      <td>88740e65d5d6b056e0cda098e1ea6313</td>\n",
       "      <td>social</td>\n",
       "    </tr>\n",
       "    <tr>\n",
       "      <th>1</th>\n",
       "      <td>8c18d1de7f67e60dbd64e3c07d7e9d5d</td>\n",
       "      <td>2017-10-20</td>\n",
       "      <td>007f9098284a86ee80ddeb25d53e0af8</td>\n",
       "      <td>paid_search</td>\n",
       "    </tr>\n",
       "    <tr>\n",
       "      <th>2</th>\n",
       "      <td>b4bc852d233dfefc5131f593b538befa</td>\n",
       "      <td>2018-03-22</td>\n",
       "      <td>a7982125ff7aa3b2054c6e44f9d28522</td>\n",
       "      <td>organic_search</td>\n",
       "    </tr>\n",
       "    <tr>\n",
       "      <th>3</th>\n",
       "      <td>6be030b81c75970747525b843c1ef4f8</td>\n",
       "      <td>2018-01-22</td>\n",
       "      <td>d45d558f0daeecf3cccdffe3c59684aa</td>\n",
       "      <td>email</td>\n",
       "    </tr>\n",
       "    <tr>\n",
       "      <th>4</th>\n",
       "      <td>5420aad7fec3549a85876ba1c529bd84</td>\n",
       "      <td>2018-02-21</td>\n",
       "      <td>b48ec5f3b04e9068441002a19df93c6c</td>\n",
       "      <td>organic_search</td>\n",
       "    </tr>\n",
       "  </tbody>\n",
       "</table>\n",
       "</div>"
      ],
      "text/plain": [
       "                             mql_id first_contact_date  \\\n",
       "0  dac32acd4db4c29c230538b72f8dd87d         2018-02-01   \n",
       "1  8c18d1de7f67e60dbd64e3c07d7e9d5d         2017-10-20   \n",
       "2  b4bc852d233dfefc5131f593b538befa         2018-03-22   \n",
       "3  6be030b81c75970747525b843c1ef4f8         2018-01-22   \n",
       "4  5420aad7fec3549a85876ba1c529bd84         2018-02-21   \n",
       "\n",
       "                    landing_page_id          origin  \n",
       "0  88740e65d5d6b056e0cda098e1ea6313          social  \n",
       "1  007f9098284a86ee80ddeb25d53e0af8     paid_search  \n",
       "2  a7982125ff7aa3b2054c6e44f9d28522  organic_search  \n",
       "3  d45d558f0daeecf3cccdffe3c59684aa           email  \n",
       "4  b48ec5f3b04e9068441002a19df93c6c  organic_search  "
      ]
     },
     "execution_count": 3,
     "metadata": {},
     "output_type": "execute_result"
    },
    {
     "data": {
      "text/plain": [
       "(8000, 4)"
      ]
     },
     "execution_count": 3,
     "metadata": {},
     "output_type": "execute_result"
    }
   ],
   "source": [
    "# Import the data into a dataframe\n",
    "mql = pd.read_csv(\"./marketing-funnel-olist/olist_marketing_qualified_leads_dataset.csv\")\n",
    "mql.head()\n",
    "mql.shape # should be 8000"
   ]
  },
  {
   "cell_type": "code",
   "execution_count": 4,
   "metadata": {},
   "outputs": [
    {
     "name": "stdout",
     "output_type": "stream",
     "text": [
      "<class 'pandas.core.frame.DataFrame'>\n",
      "RangeIndex: 8000 entries, 0 to 7999\n",
      "Data columns (total 4 columns):\n",
      "mql_id                8000 non-null object\n",
      "first_contact_date    8000 non-null datetime64[ns]\n",
      "landing_page_id       8000 non-null object\n",
      "origin                7940 non-null object\n",
      "dtypes: datetime64[ns](1), object(3)\n",
      "memory usage: 250.1+ KB\n"
     ]
    }
   ],
   "source": [
    "# Convert first_contact_date to pandas datatime\n",
    "mql['first_contact_date'] = pd.to_datetime(mql['first_contact_date'], format=\"%Y-%m-%d\")\n",
    "mql.info()"
   ]
  },
  {
   "cell_type": "code",
   "execution_count": 5,
   "metadata": {},
   "outputs": [
    {
     "data": {
      "text/html": [
       "<div>\n",
       "<style scoped>\n",
       "    .dataframe tbody tr th:only-of-type {\n",
       "        vertical-align: middle;\n",
       "    }\n",
       "\n",
       "    .dataframe tbody tr th {\n",
       "        vertical-align: top;\n",
       "    }\n",
       "\n",
       "    .dataframe thead th {\n",
       "        text-align: right;\n",
       "    }\n",
       "</style>\n",
       "<table border=\"1\" class=\"dataframe\">\n",
       "  <thead>\n",
       "    <tr style=\"text-align: right;\">\n",
       "      <th></th>\n",
       "      <th>mql_id</th>\n",
       "      <th>first_contact_date</th>\n",
       "      <th>landing_page_id</th>\n",
       "      <th>origin</th>\n",
       "    </tr>\n",
       "  </thead>\n",
       "  <tbody>\n",
       "    <tr>\n",
       "      <th>count</th>\n",
       "      <td>8000</td>\n",
       "      <td>8000</td>\n",
       "      <td>8000</td>\n",
       "      <td>7940</td>\n",
       "    </tr>\n",
       "    <tr>\n",
       "      <th>unique</th>\n",
       "      <td>8000</td>\n",
       "      <td>336</td>\n",
       "      <td>495</td>\n",
       "      <td>10</td>\n",
       "    </tr>\n",
       "    <tr>\n",
       "      <th>top</th>\n",
       "      <td>c37cc97f8ce18a041b73ae6a749c55a0</td>\n",
       "      <td>2018-05-02 00:00:00</td>\n",
       "      <td>b76ef37428e6799c421989521c0e5077</td>\n",
       "      <td>organic_search</td>\n",
       "    </tr>\n",
       "    <tr>\n",
       "      <th>freq</th>\n",
       "      <td>1</td>\n",
       "      <td>93</td>\n",
       "      <td>912</td>\n",
       "      <td>2296</td>\n",
       "    </tr>\n",
       "    <tr>\n",
       "      <th>first</th>\n",
       "      <td>NaN</td>\n",
       "      <td>2017-06-14 00:00:00</td>\n",
       "      <td>NaN</td>\n",
       "      <td>NaN</td>\n",
       "    </tr>\n",
       "    <tr>\n",
       "      <th>last</th>\n",
       "      <td>NaN</td>\n",
       "      <td>2018-05-31 00:00:00</td>\n",
       "      <td>NaN</td>\n",
       "      <td>NaN</td>\n",
       "    </tr>\n",
       "  </tbody>\n",
       "</table>\n",
       "</div>"
      ],
      "text/plain": [
       "                                  mql_id   first_contact_date  \\\n",
       "count                               8000                 8000   \n",
       "unique                              8000                  336   \n",
       "top     c37cc97f8ce18a041b73ae6a749c55a0  2018-05-02 00:00:00   \n",
       "freq                                   1                   93   \n",
       "first                                NaN  2017-06-14 00:00:00   \n",
       "last                                 NaN  2018-05-31 00:00:00   \n",
       "\n",
       "                         landing_page_id          origin  \n",
       "count                               8000            7940  \n",
       "unique                               495              10  \n",
       "top     b76ef37428e6799c421989521c0e5077  organic_search  \n",
       "freq                                 912            2296  \n",
       "first                                NaN             NaN  \n",
       "last                                 NaN             NaN  "
      ]
     },
     "execution_count": 5,
     "metadata": {},
     "output_type": "execute_result"
    }
   ],
   "source": [
    "mql.describe()"
   ]
  },
  {
   "cell_type": "markdown",
   "metadata": {},
   "source": [
    "**Insights**\n",
    "----------------\n",
    "1. Dataset has **8000 unique leads**\n",
    "\n",
    "2. Origin has **10** unique categories, with **60 leads** missing their source of origin\n",
    "\n",
    "2. Dataset has potential leads who visited the site between at **June 14th 2017 and May 31st 2018**\n",
    "\n",
    "3. **495** unique landing pages"
   ]
  },
  {
   "cell_type": "code",
   "execution_count": 6,
   "metadata": {},
   "outputs": [
    {
     "data": {
      "text/html": [
       "<div>\n",
       "<style scoped>\n",
       "    .dataframe tbody tr th:only-of-type {\n",
       "        vertical-align: middle;\n",
       "    }\n",
       "\n",
       "    .dataframe tbody tr th {\n",
       "        vertical-align: top;\n",
       "    }\n",
       "\n",
       "    .dataframe thead th {\n",
       "        text-align: right;\n",
       "    }\n",
       "</style>\n",
       "<table border=\"1\" class=\"dataframe\">\n",
       "  <thead>\n",
       "    <tr style=\"text-align: right;\">\n",
       "      <th></th>\n",
       "      <th>mql_id</th>\n",
       "      <th>first_contact_date</th>\n",
       "      <th>landing_page_id</th>\n",
       "      <th>origin</th>\n",
       "      <th>first_contact_month</th>\n",
       "      <th>first_contact_day</th>\n",
       "      <th>weekday_ind</th>\n",
       "    </tr>\n",
       "  </thead>\n",
       "  <tbody>\n",
       "    <tr>\n",
       "      <th>0</th>\n",
       "      <td>dac32acd4db4c29c230538b72f8dd87d</td>\n",
       "      <td>2018-02-01</td>\n",
       "      <td>88740e65d5d6b056e0cda098e1ea6313</td>\n",
       "      <td>social</td>\n",
       "      <td>2</td>\n",
       "      <td>Thursday</td>\n",
       "      <td>1</td>\n",
       "    </tr>\n",
       "    <tr>\n",
       "      <th>1</th>\n",
       "      <td>8c18d1de7f67e60dbd64e3c07d7e9d5d</td>\n",
       "      <td>2017-10-20</td>\n",
       "      <td>007f9098284a86ee80ddeb25d53e0af8</td>\n",
       "      <td>paid_search</td>\n",
       "      <td>10</td>\n",
       "      <td>Friday</td>\n",
       "      <td>1</td>\n",
       "    </tr>\n",
       "    <tr>\n",
       "      <th>2</th>\n",
       "      <td>b4bc852d233dfefc5131f593b538befa</td>\n",
       "      <td>2018-03-22</td>\n",
       "      <td>a7982125ff7aa3b2054c6e44f9d28522</td>\n",
       "      <td>organic_search</td>\n",
       "      <td>3</td>\n",
       "      <td>Thursday</td>\n",
       "      <td>1</td>\n",
       "    </tr>\n",
       "    <tr>\n",
       "      <th>3</th>\n",
       "      <td>6be030b81c75970747525b843c1ef4f8</td>\n",
       "      <td>2018-01-22</td>\n",
       "      <td>d45d558f0daeecf3cccdffe3c59684aa</td>\n",
       "      <td>email</td>\n",
       "      <td>1</td>\n",
       "      <td>Monday</td>\n",
       "      <td>1</td>\n",
       "    </tr>\n",
       "    <tr>\n",
       "      <th>4</th>\n",
       "      <td>5420aad7fec3549a85876ba1c529bd84</td>\n",
       "      <td>2018-02-21</td>\n",
       "      <td>b48ec5f3b04e9068441002a19df93c6c</td>\n",
       "      <td>organic_search</td>\n",
       "      <td>2</td>\n",
       "      <td>Wednesday</td>\n",
       "      <td>1</td>\n",
       "    </tr>\n",
       "  </tbody>\n",
       "</table>\n",
       "</div>"
      ],
      "text/plain": [
       "                             mql_id first_contact_date  \\\n",
       "0  dac32acd4db4c29c230538b72f8dd87d         2018-02-01   \n",
       "1  8c18d1de7f67e60dbd64e3c07d7e9d5d         2017-10-20   \n",
       "2  b4bc852d233dfefc5131f593b538befa         2018-03-22   \n",
       "3  6be030b81c75970747525b843c1ef4f8         2018-01-22   \n",
       "4  5420aad7fec3549a85876ba1c529bd84         2018-02-21   \n",
       "\n",
       "                    landing_page_id          origin  first_contact_month  \\\n",
       "0  88740e65d5d6b056e0cda098e1ea6313          social                    2   \n",
       "1  007f9098284a86ee80ddeb25d53e0af8     paid_search                   10   \n",
       "2  a7982125ff7aa3b2054c6e44f9d28522  organic_search                    3   \n",
       "3  d45d558f0daeecf3cccdffe3c59684aa           email                    1   \n",
       "4  b48ec5f3b04e9068441002a19df93c6c  organic_search                    2   \n",
       "\n",
       "  first_contact_day  weekday_ind  \n",
       "0          Thursday            1  \n",
       "1            Friday            1  \n",
       "2          Thursday            1  \n",
       "3            Monday            1  \n",
       "4         Wednesday            1  "
      ]
     },
     "execution_count": 6,
     "metadata": {},
     "output_type": "execute_result"
    }
   ],
   "source": [
    "mql['first_contact_month'] = mql['first_contact_date'].dt.month\n",
    "mql['first_contact_day'] = mql['first_contact_date'].dt.weekday_name\n",
    "mql['weekday_ind'] = np.where(mql['first_contact_date'].dt.dayofweek.isin([0,1,2,3,4]), 1, 0) # weekday indicator\n",
    "mql.head()"
   ]
  },
  {
   "cell_type": "markdown",
   "metadata": {},
   "source": [
    "#### Most popular Origin source?"
   ]
  },
  {
   "cell_type": "code",
   "execution_count": 7,
   "metadata": {},
   "outputs": [
    {
     "data": {
      "text/plain": [
       "<matplotlib.axes._subplots.AxesSubplot at 0x117358898>"
      ]
     },
     "execution_count": 7,
     "metadata": {},
     "output_type": "execute_result"
    },
    {
     "data": {
      "image/png": "[encoded data removed]",
      "text/plain": [
       "<Figure size 1080x720 with 1 Axes>"
      ]
     },
     "metadata": {},
     "output_type": "display_data"
    }
   ],
   "source": [
    "sns.set(rc={'figure.figsize':(15,10)})\n",
    "sns.countplot(x = mql['origin'], data = mql, order = mql.origin.value_counts().index)"
   ]
  },
  {
   "cell_type": "code",
   "execution_count": 8,
   "metadata": {},
   "outputs": [
    {
     "data": {
      "text/plain": [
       "organic_search       0.289169\n",
       "paid_search          0.199748\n",
       "social               0.170025\n",
       "unknown              0.138413\n",
       "direct_traffic       0.062846\n",
       "email                0.062091\n",
       "referral             0.035768\n",
       "other                0.018892\n",
       "display              0.014861\n",
       "other_publicities    0.008186\n",
       "Name: origin, dtype: float64"
      ]
     },
     "execution_count": 8,
     "metadata": {},
     "output_type": "execute_result"
    }
   ],
   "source": [
    "# origin = mql.groupby('origin')['mql_id'].count().reset_index(name=\"count_origins\")\n",
    "# origin['pctLeadsVisited'] = (origin['count_origins'] / len(mql)) * 100\n",
    "# origin.sort_values(by = 'count_origins', ascending = False).head(n=20)\n",
    "mql.origin.value_counts(normalize=True)"
   ]
  },
  {
   "cell_type": "markdown",
   "metadata": {},
   "source": [
    "**Insights**\n",
    "----------------\n",
    "- **Organic Search** is the most popular category generating **29%** of the leads to the store\n",
    "- Top **three** sources (OS, PS & Social) of traffic generate close to **66% of the leads** to the store"
   ]
  },
  {
   "cell_type": "markdown",
   "metadata": {},
   "source": [
    "#### First Page Visited"
   ]
  },
  {
   "cell_type": "code",
   "execution_count": 9,
   "metadata": {},
   "outputs": [
    {
     "data": {
      "text/plain": [
       "b76ef37428e6799c421989521c0e5077    0.114000\n",
       "22c29808c4f815213303f8933030604c    0.110375\n",
       "58326e62183c14b0c03085c33b9fdc44    0.061875\n",
       "88740e65d5d6b056e0cda098e1ea6313    0.055625\n",
       "ce1a65abd0973638f1c887a6efcfa82d    0.049250\n",
       "40dec9f3d5259a3d2dbcdab2114fae47    0.041250\n",
       "f017be4dbf86243af5c1ebed0cff36a2    0.038750\n",
       "e492ee5eaf1697716985cc6f33f9cd9b    0.036375\n",
       "a7982125ff7aa3b2054c6e44f9d28522    0.019500\n",
       "73f31a40697cc90a86c1273563ac230e    0.014375\n",
       "Name: landing_page_id, dtype: float64"
      ]
     },
     "execution_count": 9,
     "metadata": {},
     "output_type": "execute_result"
    }
   ],
   "source": [
    "# count of MQLs by landing page\n",
    "# lPageId = mql.groupby('landing_page_id')['mql_id'].count().reset_index(name=\"count_leads\")\n",
    "# lPageId['pctLeadsVisited'] = (lPageId['count_leads'] / len(mql)) * 100\n",
    "# lPageId.sort_values(by = 'count_leads', ascending = False).head(n=10)\n",
    "mql.landing_page_id.value_counts(normalize=True).head(n=10)"
   ]
  },
  {
   "cell_type": "markdown",
   "metadata": {},
   "source": [
    "**Insights**\n",
    "----------------\n",
    "\n",
    "- *b76ef37428e6799c421989521c0e5077* is the most popular landing page with almost **11.5%** of the overall lead visits \n",
    "- Top **10 pages** landing pages account for **55%** of the leads visits, and top **25 pages** account for **67%** of the leads who visited the OList site"
   ]
  },
  {
   "cell_type": "code",
   "execution_count": 10,
   "metadata": {},
   "outputs": [
    {
     "data": {
      "text/plain": [
       "Monday       0.186875\n",
       "Wednesday    0.186375\n",
       "Tuesday      0.181500\n",
       "Thursday     0.169250\n",
       "Friday       0.143750\n",
       "Sunday       0.066375\n",
       "Saturday     0.065875\n",
       "Name: first_contact_day, dtype: float64"
      ]
     },
     "execution_count": 10,
     "metadata": {},
     "output_type": "execute_result"
    },
    {
     "data": {
      "text/plain": [
       "<matplotlib.axes._subplots.AxesSubplot at 0x117358ba8>"
      ]
     },
     "execution_count": 10,
     "metadata": {},
     "output_type": "execute_result"
    },
    {
     "data": {
      "image/png": "[encoded data removed]",
      "text/plain": [
       "<Figure size 1080x720 with 1 Axes>"
      ]
     },
     "metadata": {},
     "output_type": "display_data"
    }
   ],
   "source": [
    "mql.first_contact_day.value_counts(normalize=True).head(n=10)\n",
    "sns.countplot(x = mql['first_contact_day'], data = mql, order = mql.first_contact_day.value_counts().index)"
   ]
  },
  {
   "cell_type": "code",
   "execution_count": 11,
   "metadata": {},
   "outputs": [
    {
     "data": {
      "text/plain": [
       "4     0.169000\n",
       "5     0.162875\n",
       "3     0.146750\n",
       "1     0.142625\n",
       "2     0.128500\n",
       "11    0.055625\n",
       "10    0.052000\n",
       "8     0.048250\n",
       "9     0.039000\n",
       "7     0.029875\n",
       "Name: first_contact_month, dtype: float64"
      ]
     },
     "execution_count": 11,
     "metadata": {},
     "output_type": "execute_result"
    },
    {
     "data": {
      "text/plain": [
       "<matplotlib.axes._subplots.AxesSubplot at 0x118249b70>"
      ]
     },
     "execution_count": 11,
     "metadata": {},
     "output_type": "execute_result"
    },
    {
     "data": {
      "image/png": "[encoded data removed]",
      "text/plain": [
       "<Figure size 1080x720 with 1 Axes>"
      ]
     },
     "metadata": {},
     "output_type": "display_data"
    }
   ],
   "source": [
    "mql.first_contact_month.value_counts(normalize=True).head(n=10)\n",
    "sns.countplot(x = mql['first_contact_month'], data = mql, order = mql.first_contact_month.value_counts().index)"
   ]
  },
  {
   "cell_type": "markdown",
   "metadata": {},
   "source": [
    "**Insights**\n",
    "----------------\n",
    "\n",
    "- Most of the leads are signing up to be contacted during the **weekdays**\n",
    "- Cannot conclude that first half of the year has more sign-up as the data provided is only from June to May"
   ]
  },
  {
   "cell_type": "markdown",
   "metadata": {},
   "source": [
    "#### Merge with Closed Deals Dataset"
   ]
  },
  {
   "cell_type": "code",
   "execution_count": 12,
   "metadata": {},
   "outputs": [
    {
     "data": {
      "text/html": [
       "<div>\n",
       "<style scoped>\n",
       "    .dataframe tbody tr th:only-of-type {\n",
       "        vertical-align: middle;\n",
       "    }\n",
       "\n",
       "    .dataframe tbody tr th {\n",
       "        vertical-align: top;\n",
       "    }\n",
       "\n",
       "    .dataframe thead th {\n",
       "        text-align: right;\n",
       "    }\n",
       "</style>\n",
       "<table border=\"1\" class=\"dataframe\">\n",
       "  <thead>\n",
       "    <tr style=\"text-align: right;\">\n",
       "      <th></th>\n",
       "      <th>mql_id</th>\n",
       "      <th>seller_id</th>\n",
       "      <th>sdr_id</th>\n",
       "      <th>sr_id</th>\n",
       "      <th>won_date</th>\n",
       "      <th>business_segment</th>\n",
       "      <th>lead_type</th>\n",
       "      <th>lead_behaviour_profile</th>\n",
       "      <th>has_company</th>\n",
       "      <th>has_gtin</th>\n",
       "      <th>average_stock</th>\n",
       "      <th>business_type</th>\n",
       "      <th>declared_product_catalog_size</th>\n",
       "      <th>declared_monthly_revenue</th>\n",
       "    </tr>\n",
       "  </thead>\n",
       "  <tbody>\n",
       "    <tr>\n",
       "      <th>0</th>\n",
       "      <td>5420aad7fec3549a85876ba1c529bd84</td>\n",
       "      <td>2c43fb513632d29b3b58df74816f1b06</td>\n",
       "      <td>a8387c01a09e99ce014107505b92388c</td>\n",
       "      <td>4ef15afb4b2723d8f3d81e51ec7afefe</td>\n",
       "      <td>2018-02-26 19:58:54</td>\n",
       "      <td>pet</td>\n",
       "      <td>online_medium</td>\n",
       "      <td>cat</td>\n",
       "      <td>NaN</td>\n",
       "      <td>NaN</td>\n",
       "      <td>NaN</td>\n",
       "      <td>reseller</td>\n",
       "      <td>NaN</td>\n",
       "      <td>0.0</td>\n",
       "    </tr>\n",
       "    <tr>\n",
       "      <th>1</th>\n",
       "      <td>a555fb36b9368110ede0f043dfc3b9a0</td>\n",
       "      <td>bbb7d7893a450660432ea6652310ebb7</td>\n",
       "      <td>09285259593c61296eef10c734121d5b</td>\n",
       "      <td>d3d1e91a157ea7f90548eef82f1955e3</td>\n",
       "      <td>2018-05-08 20:17:59</td>\n",
       "      <td>car_accessories</td>\n",
       "      <td>industry</td>\n",
       "      <td>eagle</td>\n",
       "      <td>NaN</td>\n",
       "      <td>NaN</td>\n",
       "      <td>NaN</td>\n",
       "      <td>reseller</td>\n",
       "      <td>NaN</td>\n",
       "      <td>0.0</td>\n",
       "    </tr>\n",
       "    <tr>\n",
       "      <th>2</th>\n",
       "      <td>327174d3648a2d047e8940d7d15204ca</td>\n",
       "      <td>612170e34b97004b3ba37eae81836b4c</td>\n",
       "      <td>b90f87164b5f8c2cfa5c8572834dbe3f</td>\n",
       "      <td>6565aa9ce3178a5caf6171827af3a9ba</td>\n",
       "      <td>2018-06-05 17:27:23</td>\n",
       "      <td>home_appliances</td>\n",
       "      <td>online_big</td>\n",
       "      <td>cat</td>\n",
       "      <td>NaN</td>\n",
       "      <td>NaN</td>\n",
       "      <td>NaN</td>\n",
       "      <td>reseller</td>\n",
       "      <td>NaN</td>\n",
       "      <td>0.0</td>\n",
       "    </tr>\n",
       "    <tr>\n",
       "      <th>3</th>\n",
       "      <td>f5fee8f7da74f4887f5bcae2bafb6dd6</td>\n",
       "      <td>21e1781e36faf92725dde4730a88ca0f</td>\n",
       "      <td>56bf83c4bb35763a51c2baab501b4c67</td>\n",
       "      <td>d3d1e91a157ea7f90548eef82f1955e3</td>\n",
       "      <td>2018-01-17 13:51:03</td>\n",
       "      <td>food_drink</td>\n",
       "      <td>online_small</td>\n",
       "      <td>NaN</td>\n",
       "      <td>NaN</td>\n",
       "      <td>NaN</td>\n",
       "      <td>NaN</td>\n",
       "      <td>reseller</td>\n",
       "      <td>NaN</td>\n",
       "      <td>0.0</td>\n",
       "    </tr>\n",
       "    <tr>\n",
       "      <th>4</th>\n",
       "      <td>ffe640179b554e295c167a2f6be528e0</td>\n",
       "      <td>ed8cb7b190ceb6067227478e48cf8dde</td>\n",
       "      <td>4b339f9567d060bcea4f5136b9f5949e</td>\n",
       "      <td>d3d1e91a157ea7f90548eef82f1955e3</td>\n",
       "      <td>2018-07-03 20:17:45</td>\n",
       "      <td>home_appliances</td>\n",
       "      <td>industry</td>\n",
       "      <td>wolf</td>\n",
       "      <td>NaN</td>\n",
       "      <td>NaN</td>\n",
       "      <td>NaN</td>\n",
       "      <td>manufacturer</td>\n",
       "      <td>NaN</td>\n",
       "      <td>0.0</td>\n",
       "    </tr>\n",
       "  </tbody>\n",
       "</table>\n",
       "</div>"
      ],
      "text/plain": [
       "                             mql_id                         seller_id  \\\n",
       "0  5420aad7fec3549a85876ba1c529bd84  2c43fb513632d29b3b58df74816f1b06   \n",
       "1  a555fb36b9368110ede0f043dfc3b9a0  bbb7d7893a450660432ea6652310ebb7   \n",
       "2  327174d3648a2d047e8940d7d15204ca  612170e34b97004b3ba37eae81836b4c   \n",
       "3  f5fee8f7da74f4887f5bcae2bafb6dd6  21e1781e36faf92725dde4730a88ca0f   \n",
       "4  ffe640179b554e295c167a2f6be528e0  ed8cb7b190ceb6067227478e48cf8dde   \n",
       "\n",
       "                             sdr_id                             sr_id  \\\n",
       "0  a8387c01a09e99ce014107505b92388c  4ef15afb4b2723d8f3d81e51ec7afefe   \n",
       "1  09285259593c61296eef10c734121d5b  d3d1e91a157ea7f90548eef82f1955e3   \n",
       "2  b90f87164b5f8c2cfa5c8572834dbe3f  6565aa9ce3178a5caf6171827af3a9ba   \n",
       "3  56bf83c4bb35763a51c2baab501b4c67  d3d1e91a157ea7f90548eef82f1955e3   \n",
       "4  4b339f9567d060bcea4f5136b9f5949e  d3d1e91a157ea7f90548eef82f1955e3   \n",
       "\n",
       "              won_date business_segment      lead_type lead_behaviour_profile  \\\n",
       "0  2018-02-26 19:58:54              pet  online_medium                    cat   \n",
       "1  2018-05-08 20:17:59  car_accessories       industry                  eagle   \n",
       "2  2018-06-05 17:27:23  home_appliances     online_big                    cat   \n",
       "3  2018-01-17 13:51:03       food_drink   online_small                    NaN   \n",
       "4  2018-07-03 20:17:45  home_appliances       industry                   wolf   \n",
       "\n",
       "  has_company has_gtin average_stock business_type  \\\n",
       "0         NaN      NaN           NaN      reseller   \n",
       "1         NaN      NaN           NaN      reseller   \n",
       "2         NaN      NaN           NaN      reseller   \n",
       "3         NaN      NaN           NaN      reseller   \n",
       "4         NaN      NaN           NaN  manufacturer   \n",
       "\n",
       "   declared_product_catalog_size  declared_monthly_revenue  \n",
       "0                            NaN                       0.0  \n",
       "1                            NaN                       0.0  \n",
       "2                            NaN                       0.0  \n",
       "3                            NaN                       0.0  \n",
       "4                            NaN                       0.0  "
      ]
     },
     "execution_count": 12,
     "metadata": {},
     "output_type": "execute_result"
    },
    {
     "data": {
      "text/plain": [
       "842"
      ]
     },
     "execution_count": 12,
     "metadata": {},
     "output_type": "execute_result"
    }
   ],
   "source": [
    "cd = pd.read_csv(\"./marketing-funnel-olist/olist_closed_deals_dataset.csv\")\n",
    "cd.head()\n",
    "len(cd) # should be 842"
   ]
  },
  {
   "cell_type": "code",
   "execution_count": 13,
   "metadata": {},
   "outputs": [
    {
     "name": "stdout",
     "output_type": "stream",
     "text": [
      "<class 'pandas.core.frame.DataFrame'>\n",
      "RangeIndex: 842 entries, 0 to 841\n",
      "Data columns (total 14 columns):\n",
      "mql_id                           842 non-null object\n",
      "seller_id                        842 non-null object\n",
      "sdr_id                           842 non-null object\n",
      "sr_id                            842 non-null object\n",
      "won_date                         842 non-null datetime64[ns]\n",
      "business_segment                 841 non-null object\n",
      "lead_type                        836 non-null object\n",
      "lead_behaviour_profile           665 non-null object\n",
      "has_company                      63 non-null object\n",
      "has_gtin                         64 non-null object\n",
      "average_stock                    66 non-null object\n",
      "business_type                    832 non-null object\n",
      "declared_product_catalog_size    69 non-null float64\n",
      "declared_monthly_revenue         842 non-null float64\n",
      "dtypes: datetime64[ns](1), float64(2), object(11)\n",
      "memory usage: 92.2+ KB\n"
     ]
    }
   ],
   "source": [
    "# Convert won_date to pandas datetime\n",
    "cd['won_date'] = pd.to_datetime(cd['won_date'], format=\"%Y-%m-%d %H:%M:%S\")\n",
    "cd.info()"
   ]
  },
  {
   "cell_type": "code",
   "execution_count": 14,
   "metadata": {},
   "outputs": [
    {
     "data": {
      "text/plain": [
       "(8000, 20)"
      ]
     },
     "execution_count": 14,
     "metadata": {},
     "output_type": "execute_result"
    },
    {
     "data": {
      "text/html": [
       "<div>\n",
       "<style scoped>\n",
       "    .dataframe tbody tr th:only-of-type {\n",
       "        vertical-align: middle;\n",
       "    }\n",
       "\n",
       "    .dataframe tbody tr th {\n",
       "        vertical-align: top;\n",
       "    }\n",
       "\n",
       "    .dataframe thead th {\n",
       "        text-align: right;\n",
       "    }\n",
       "</style>\n",
       "<table border=\"1\" class=\"dataframe\">\n",
       "  <thead>\n",
       "    <tr style=\"text-align: right;\">\n",
       "      <th></th>\n",
       "      <th>mql_id</th>\n",
       "      <th>first_contact_date</th>\n",
       "      <th>landing_page_id</th>\n",
       "      <th>origin</th>\n",
       "      <th>first_contact_month</th>\n",
       "      <th>first_contact_day</th>\n",
       "      <th>weekday_ind</th>\n",
       "      <th>seller_id</th>\n",
       "      <th>sdr_id</th>\n",
       "      <th>sr_id</th>\n",
       "      <th>...</th>\n",
       "      <th>lead_behaviour_profile</th>\n",
       "      <th>has_company</th>\n",
       "      <th>has_gtin</th>\n",
       "      <th>average_stock</th>\n",
       "      <th>business_type</th>\n",
       "      <th>declared_product_catalog_size</th>\n",
       "      <th>declared_monthly_revenue</th>\n",
       "      <th>closed_deal</th>\n",
       "      <th>days_to_close</th>\n",
       "      <th>days_to_close_num</th>\n",
       "    </tr>\n",
       "  </thead>\n",
       "  <tbody>\n",
       "    <tr>\n",
       "      <th>4</th>\n",
       "      <td>5420aad7fec3549a85876ba1c529bd84</td>\n",
       "      <td>2018-02-21</td>\n",
       "      <td>b48ec5f3b04e9068441002a19df93c6c</td>\n",
       "      <td>organic_search</td>\n",
       "      <td>2</td>\n",
       "      <td>Wednesday</td>\n",
       "      <td>1</td>\n",
       "      <td>2c43fb513632d29b3b58df74816f1b06</td>\n",
       "      <td>a8387c01a09e99ce014107505b92388c</td>\n",
       "      <td>4ef15afb4b2723d8f3d81e51ec7afefe</td>\n",
       "      <td>...</td>\n",
       "      <td>cat</td>\n",
       "      <td>NaN</td>\n",
       "      <td>NaN</td>\n",
       "      <td>NaN</td>\n",
       "      <td>reseller</td>\n",
       "      <td>NaN</td>\n",
       "      <td>0.0</td>\n",
       "      <td>1</td>\n",
       "      <td>5 days 19:58:54</td>\n",
       "      <td>5.832569</td>\n",
       "    </tr>\n",
       "    <tr>\n",
       "      <th>12</th>\n",
       "      <td>a555fb36b9368110ede0f043dfc3b9a0</td>\n",
       "      <td>2018-04-04</td>\n",
       "      <td>2f08471dfb83baef522f952438a36f6e</td>\n",
       "      <td>referral</td>\n",
       "      <td>4</td>\n",
       "      <td>Wednesday</td>\n",
       "      <td>1</td>\n",
       "      <td>bbb7d7893a450660432ea6652310ebb7</td>\n",
       "      <td>09285259593c61296eef10c734121d5b</td>\n",
       "      <td>d3d1e91a157ea7f90548eef82f1955e3</td>\n",
       "      <td>...</td>\n",
       "      <td>eagle</td>\n",
       "      <td>NaN</td>\n",
       "      <td>NaN</td>\n",
       "      <td>NaN</td>\n",
       "      <td>reseller</td>\n",
       "      <td>NaN</td>\n",
       "      <td>0.0</td>\n",
       "      <td>1</td>\n",
       "      <td>34 days 20:17:59</td>\n",
       "      <td>34.845822</td>\n",
       "    </tr>\n",
       "    <tr>\n",
       "      <th>14</th>\n",
       "      <td>327174d3648a2d047e8940d7d15204ca</td>\n",
       "      <td>2018-04-03</td>\n",
       "      <td>1ceb590cd1e00c7ee95220971f82693d</td>\n",
       "      <td>organic_search</td>\n",
       "      <td>4</td>\n",
       "      <td>Tuesday</td>\n",
       "      <td>1</td>\n",
       "      <td>612170e34b97004b3ba37eae81836b4c</td>\n",
       "      <td>b90f87164b5f8c2cfa5c8572834dbe3f</td>\n",
       "      <td>6565aa9ce3178a5caf6171827af3a9ba</td>\n",
       "      <td>...</td>\n",
       "      <td>cat</td>\n",
       "      <td>NaN</td>\n",
       "      <td>NaN</td>\n",
       "      <td>NaN</td>\n",
       "      <td>reseller</td>\n",
       "      <td>NaN</td>\n",
       "      <td>0.0</td>\n",
       "      <td>1</td>\n",
       "      <td>63 days 17:27:23</td>\n",
       "      <td>63.727350</td>\n",
       "    </tr>\n",
       "    <tr>\n",
       "      <th>39</th>\n",
       "      <td>f5fee8f7da74f4887f5bcae2bafb6dd6</td>\n",
       "      <td>2018-01-14</td>\n",
       "      <td>22c29808c4f815213303f8933030604c</td>\n",
       "      <td>paid_search</td>\n",
       "      <td>1</td>\n",
       "      <td>Sunday</td>\n",
       "      <td>0</td>\n",
       "      <td>21e1781e36faf92725dde4730a88ca0f</td>\n",
       "      <td>56bf83c4bb35763a51c2baab501b4c67</td>\n",
       "      <td>d3d1e91a157ea7f90548eef82f1955e3</td>\n",
       "      <td>...</td>\n",
       "      <td>NaN</td>\n",
       "      <td>NaN</td>\n",
       "      <td>NaN</td>\n",
       "      <td>NaN</td>\n",
       "      <td>reseller</td>\n",
       "      <td>NaN</td>\n",
       "      <td>0.0</td>\n",
       "      <td>1</td>\n",
       "      <td>3 days 13:51:03</td>\n",
       "      <td>3.577118</td>\n",
       "    </tr>\n",
       "    <tr>\n",
       "      <th>67</th>\n",
       "      <td>ffe640179b554e295c167a2f6be528e0</td>\n",
       "      <td>2017-10-09</td>\n",
       "      <td>a0fbc0263cb98bdb0d72b9f9f283a172</td>\n",
       "      <td>unknown</td>\n",
       "      <td>10</td>\n",
       "      <td>Monday</td>\n",
       "      <td>1</td>\n",
       "      <td>ed8cb7b190ceb6067227478e48cf8dde</td>\n",
       "      <td>4b339f9567d060bcea4f5136b9f5949e</td>\n",
       "      <td>d3d1e91a157ea7f90548eef82f1955e3</td>\n",
       "      <td>...</td>\n",
       "      <td>wolf</td>\n",
       "      <td>NaN</td>\n",
       "      <td>NaN</td>\n",
       "      <td>NaN</td>\n",
       "      <td>manufacturer</td>\n",
       "      <td>NaN</td>\n",
       "      <td>0.0</td>\n",
       "      <td>1</td>\n",
       "      <td>267 days 20:17:45</td>\n",
       "      <td>267.845660</td>\n",
       "    </tr>\n",
       "  </tbody>\n",
       "</table>\n",
       "<p>5 rows × 23 columns</p>\n",
       "</div>"
      ],
      "text/plain": [
       "                              mql_id first_contact_date  \\\n",
       "4   5420aad7fec3549a85876ba1c529bd84         2018-02-21   \n",
       "12  a555fb36b9368110ede0f043dfc3b9a0         2018-04-04   \n",
       "14  327174d3648a2d047e8940d7d15204ca         2018-04-03   \n",
       "39  f5fee8f7da74f4887f5bcae2bafb6dd6         2018-01-14   \n",
       "67  ffe640179b554e295c167a2f6be528e0         2017-10-09   \n",
       "\n",
       "                     landing_page_id          origin  first_contact_month  \\\n",
       "4   b48ec5f3b04e9068441002a19df93c6c  organic_search                    2   \n",
       "12  2f08471dfb83baef522f952438a36f6e        referral                    4   \n",
       "14  1ceb590cd1e00c7ee95220971f82693d  organic_search                    4   \n",
       "39  22c29808c4f815213303f8933030604c     paid_search                    1   \n",
       "67  a0fbc0263cb98bdb0d72b9f9f283a172         unknown                   10   \n",
       "\n",
       "   first_contact_day  weekday_ind                         seller_id  \\\n",
       "4          Wednesday            1  2c43fb513632d29b3b58df74816f1b06   \n",
       "12         Wednesday            1  bbb7d7893a450660432ea6652310ebb7   \n",
       "14           Tuesday            1  612170e34b97004b3ba37eae81836b4c   \n",
       "39            Sunday            0  21e1781e36faf92725dde4730a88ca0f   \n",
       "67            Monday            1  ed8cb7b190ceb6067227478e48cf8dde   \n",
       "\n",
       "                              sdr_id                             sr_id  \\\n",
       "4   a8387c01a09e99ce014107505b92388c  4ef15afb4b2723d8f3d81e51ec7afefe   \n",
       "12  09285259593c61296eef10c734121d5b  d3d1e91a157ea7f90548eef82f1955e3   \n",
       "14  b90f87164b5f8c2cfa5c8572834dbe3f  6565aa9ce3178a5caf6171827af3a9ba   \n",
       "39  56bf83c4bb35763a51c2baab501b4c67  d3d1e91a157ea7f90548eef82f1955e3   \n",
       "67  4b339f9567d060bcea4f5136b9f5949e  d3d1e91a157ea7f90548eef82f1955e3   \n",
       "\n",
       "          ...         lead_behaviour_profile has_company has_gtin  \\\n",
       "4         ...                            cat         NaN      NaN   \n",
       "12        ...                          eagle         NaN      NaN   \n",
       "14        ...                            cat         NaN      NaN   \n",
       "39        ...                            NaN         NaN      NaN   \n",
       "67        ...                           wolf         NaN      NaN   \n",
       "\n",
       "   average_stock business_type declared_product_catalog_size  \\\n",
       "4            NaN      reseller                           NaN   \n",
       "12           NaN      reseller                           NaN   \n",
       "14           NaN      reseller                           NaN   \n",
       "39           NaN      reseller                           NaN   \n",
       "67           NaN  manufacturer                           NaN   \n",
       "\n",
       "   declared_monthly_revenue closed_deal     days_to_close  days_to_close_num  \n",
       "4                       0.0           1   5 days 19:58:54           5.832569  \n",
       "12                      0.0           1  34 days 20:17:59          34.845822  \n",
       "14                      0.0           1  63 days 17:27:23          63.727350  \n",
       "39                      0.0           1   3 days 13:51:03           3.577118  \n",
       "67                      0.0           1 267 days 20:17:45         267.845660  \n",
       "\n",
       "[5 rows x 23 columns]"
      ]
     },
     "execution_count": 14,
     "metadata": {},
     "output_type": "execute_result"
    }
   ],
   "source": [
    "# left join MQL and CD datasets\n",
    "mf = mql.merge(cd, on='mql_id', how='left')\n",
    "mf.shape\n",
    "# create closed_deal column\n",
    "mf['closed_deal'] = np.where(mf['seller_id'].isna() == False, 1, 0 ) # 1 when seller ID is not NA\n",
    "# create days to close column\n",
    "mf['days_to_close'] = mf['won_date'] - mf['first_contact_date'] # number of days from first contact to close\n",
    "mf['days_to_close_num'] = mf['days_to_close']/np.timedelta64(1,'D') # number of days from first contact to close in num format\n",
    "mf[mf.days_to_close_num.isna() == False].head()"
   ]
  },
  {
   "cell_type": "code",
   "execution_count": 15,
   "metadata": {},
   "outputs": [
    {
     "data": {
      "text/html": [
       "<div>\n",
       "<style scoped>\n",
       "    .dataframe tbody tr th:only-of-type {\n",
       "        vertical-align: middle;\n",
       "    }\n",
       "\n",
       "    .dataframe tbody tr th {\n",
       "        vertical-align: top;\n",
       "    }\n",
       "\n",
       "    .dataframe thead th {\n",
       "        text-align: right;\n",
       "    }\n",
       "</style>\n",
       "<table border=\"1\" class=\"dataframe\">\n",
       "  <thead>\n",
       "    <tr style=\"text-align: right;\">\n",
       "      <th></th>\n",
       "      <th>mql_id</th>\n",
       "      <th>first_contact_date</th>\n",
       "      <th>landing_page_id</th>\n",
       "      <th>origin</th>\n",
       "      <th>first_contact_month</th>\n",
       "      <th>first_contact_day</th>\n",
       "      <th>weekday_ind</th>\n",
       "      <th>seller_id</th>\n",
       "      <th>sdr_id</th>\n",
       "      <th>sr_id</th>\n",
       "      <th>...</th>\n",
       "      <th>lead_behaviour_profile</th>\n",
       "      <th>has_company</th>\n",
       "      <th>has_gtin</th>\n",
       "      <th>average_stock</th>\n",
       "      <th>business_type</th>\n",
       "      <th>declared_product_catalog_size</th>\n",
       "      <th>declared_monthly_revenue</th>\n",
       "      <th>closed_deal</th>\n",
       "      <th>days_to_close</th>\n",
       "      <th>days_to_close_num</th>\n",
       "    </tr>\n",
       "  </thead>\n",
       "  <tbody>\n",
       "    <tr>\n",
       "      <th>6357</th>\n",
       "      <td>b91cf8812365f50ff4bda4bcd6206b05</td>\n",
       "      <td>2018-03-08</td>\n",
       "      <td>4aab772aeb9833c170d8ea5413e02eac</td>\n",
       "      <td>organic_search</td>\n",
       "      <td>3</td>\n",
       "      <td>Thursday</td>\n",
       "      <td>1</td>\n",
       "      <td>5e063e85d44b0f5c3e6ec3131103a57e</td>\n",
       "      <td>a8387c01a09e99ce014107505b92388c</td>\n",
       "      <td>495d4e95a8cf8bbf8b432b612a2aa328</td>\n",
       "      <td>...</td>\n",
       "      <td>cat</td>\n",
       "      <td>NaN</td>\n",
       "      <td>NaN</td>\n",
       "      <td>NaN</td>\n",
       "      <td>reseller</td>\n",
       "      <td>NaN</td>\n",
       "      <td>0.0</td>\n",
       "      <td>1</td>\n",
       "      <td>-2 days +19:38:55</td>\n",
       "      <td>-1.181308</td>\n",
       "    </tr>\n",
       "  </tbody>\n",
       "</table>\n",
       "<p>1 rows × 23 columns</p>\n",
       "</div>"
      ],
      "text/plain": [
       "                                mql_id first_contact_date  \\\n",
       "6357  b91cf8812365f50ff4bda4bcd6206b05         2018-03-08   \n",
       "\n",
       "                       landing_page_id          origin  first_contact_month  \\\n",
       "6357  4aab772aeb9833c170d8ea5413e02eac  organic_search                    3   \n",
       "\n",
       "     first_contact_day  weekday_ind                         seller_id  \\\n",
       "6357          Thursday            1  5e063e85d44b0f5c3e6ec3131103a57e   \n",
       "\n",
       "                                sdr_id                             sr_id  \\\n",
       "6357  a8387c01a09e99ce014107505b92388c  495d4e95a8cf8bbf8b432b612a2aa328   \n",
       "\n",
       "            ...         lead_behaviour_profile has_company has_gtin  \\\n",
       "6357        ...                            cat         NaN      NaN   \n",
       "\n",
       "     average_stock business_type declared_product_catalog_size  \\\n",
       "6357           NaN      reseller                           NaN   \n",
       "\n",
       "     declared_monthly_revenue closed_deal     days_to_close  days_to_close_num  \n",
       "6357                      0.0           1 -2 days +19:38:55          -1.181308  \n",
       "\n",
       "[1 rows x 23 columns]"
      ]
     },
     "execution_count": 15,
     "metadata": {},
     "output_type": "execute_result"
    },
    {
     "name": "stdout",
     "output_type": "stream",
     "text": [
      "\n",
      "\n",
      "Should return Zero -- 0\n"
     ]
    }
   ],
   "source": [
    "# check for any cases where won date is earlier than first contact date\n",
    "mf[mf['days_to_close_num'] < 0]\n",
    "mf.drop(6357, inplace=True)\n",
    "print(\"\\n\")\n",
    "print(\"Should return Zero -- \" + str(len(mf[mf['days_to_close_num'] < 0])))"
   ]
  },
  {
   "cell_type": "code",
   "execution_count": 16,
   "metadata": {},
   "outputs": [
    {
     "name": "stdout",
     "output_type": "stream",
     "text": [
      "Fastest close - 0 days 02:00:00\n",
      "Slowest close - 427 days 13:14:37\n",
      "Average days to close - 49 days 03:51:12.171224\n",
      "Median number of days to close - 14 days 17:19:55\n",
      "Standard Deviation of days to close - 75 days 08:38:01.457963\n"
     ]
    }
   ],
   "source": [
    "# Basic stats on numbers of days to close after first contact\n",
    "print(\"Fastest close - \" + str(mf.days_to_close.min()))\n",
    "print(\"Slowest close - \" + str(mf.days_to_close.max()))\n",
    "print(\"Average days to close - \" + str(mf.days_to_close.mean()))\n",
    "print(\"Median number of days to close - \" + str(mf.days_to_close.median()))\n",
    "print(\"Standard Deviation of days to close - \" + str(mf.days_to_close.std()))"
   ]
  },
  {
   "cell_type": "markdown",
   "metadata": {},
   "source": [
    "**Insights**\n",
    "----------------\n",
    "1. **Close Deal Percentage - 10.5%**\n",
    "2. Fastest close - 0 days 02:00:00\n",
    "3. Slowest close - 427 days 13:14:37\n",
    "4. Average days to close - 49 days 03:51:12.171224\n",
    "5. Median number of days to close - 14 days 17:19:55\n",
    "6. Standard Deviation of days to close - 75 days 08:38:01.457963"
   ]
  },
  {
   "cell_type": "code",
   "execution_count": 17,
   "metadata": {},
   "outputs": [
    {
     "data": {
      "text/plain": [
       "<matplotlib.axes._subplots.AxesSubplot at 0x118208978>"
      ]
     },
     "execution_count": 17,
     "metadata": {},
     "output_type": "execute_result"
    },
    {
     "data": {
      "image/png": "[encoded data removed]",
      "text/plain": [
       "<Figure size 1080x720 with 1 Axes>"
      ]
     },
     "metadata": {},
     "output_type": "display_data"
    }
   ],
   "source": [
    "# mf['ln'] = np.log10(mf.days_to_close_num)\n",
    "sns.distplot(mf[mf['days_to_close_num'].isna() == False]['days_to_close_num'])\n",
    "# heavily right skewed distribution, consider log transformation if the target is the number of days to close"
   ]
  },
  {
   "cell_type": "code",
   "execution_count": 18,
   "metadata": {},
   "outputs": [
    {
     "data": {
      "text/plain": [
       "(841, 23)"
      ]
     },
     "execution_count": 18,
     "metadata": {},
     "output_type": "execute_result"
    },
    {
     "data": {
      "text/html": [
       "<div>\n",
       "<style scoped>\n",
       "    .dataframe tbody tr th:only-of-type {\n",
       "        vertical-align: middle;\n",
       "    }\n",
       "\n",
       "    .dataframe tbody tr th {\n",
       "        vertical-align: top;\n",
       "    }\n",
       "\n",
       "    .dataframe thead th {\n",
       "        text-align: right;\n",
       "    }\n",
       "</style>\n",
       "<table border=\"1\" class=\"dataframe\">\n",
       "  <thead>\n",
       "    <tr style=\"text-align: right;\">\n",
       "      <th></th>\n",
       "      <th>mql_id</th>\n",
       "      <th>first_contact_date</th>\n",
       "      <th>landing_page_id</th>\n",
       "      <th>origin</th>\n",
       "      <th>first_contact_month</th>\n",
       "      <th>first_contact_day</th>\n",
       "      <th>weekday_ind</th>\n",
       "      <th>seller_id</th>\n",
       "      <th>sdr_id</th>\n",
       "      <th>sr_id</th>\n",
       "      <th>...</th>\n",
       "      <th>lead_behaviour_profile</th>\n",
       "      <th>has_company</th>\n",
       "      <th>has_gtin</th>\n",
       "      <th>average_stock</th>\n",
       "      <th>business_type</th>\n",
       "      <th>declared_product_catalog_size</th>\n",
       "      <th>declared_monthly_revenue</th>\n",
       "      <th>closed_deal</th>\n",
       "      <th>days_to_close</th>\n",
       "      <th>days_to_close_num</th>\n",
       "    </tr>\n",
       "  </thead>\n",
       "  <tbody>\n",
       "    <tr>\n",
       "      <th>4</th>\n",
       "      <td>5420aad7fec3549a85876ba1c529bd84</td>\n",
       "      <td>2018-02-21</td>\n",
       "      <td>b48ec5f3b04e9068441002a19df93c6c</td>\n",
       "      <td>organic_search</td>\n",
       "      <td>2</td>\n",
       "      <td>Wednesday</td>\n",
       "      <td>1</td>\n",
       "      <td>2c43fb513632d29b3b58df74816f1b06</td>\n",
       "      <td>a8387c01a09e99ce014107505b92388c</td>\n",
       "      <td>4ef15afb4b2723d8f3d81e51ec7afefe</td>\n",
       "      <td>...</td>\n",
       "      <td>cat</td>\n",
       "      <td>NaN</td>\n",
       "      <td>NaN</td>\n",
       "      <td>NaN</td>\n",
       "      <td>reseller</td>\n",
       "      <td>NaN</td>\n",
       "      <td>0.0</td>\n",
       "      <td>1</td>\n",
       "      <td>5 days 19:58:54</td>\n",
       "      <td>5.832569</td>\n",
       "    </tr>\n",
       "    <tr>\n",
       "      <th>12</th>\n",
       "      <td>a555fb36b9368110ede0f043dfc3b9a0</td>\n",
       "      <td>2018-04-04</td>\n",
       "      <td>2f08471dfb83baef522f952438a36f6e</td>\n",
       "      <td>referral</td>\n",
       "      <td>4</td>\n",
       "      <td>Wednesday</td>\n",
       "      <td>1</td>\n",
       "      <td>bbb7d7893a450660432ea6652310ebb7</td>\n",
       "      <td>09285259593c61296eef10c734121d5b</td>\n",
       "      <td>d3d1e91a157ea7f90548eef82f1955e3</td>\n",
       "      <td>...</td>\n",
       "      <td>eagle</td>\n",
       "      <td>NaN</td>\n",
       "      <td>NaN</td>\n",
       "      <td>NaN</td>\n",
       "      <td>reseller</td>\n",
       "      <td>NaN</td>\n",
       "      <td>0.0</td>\n",
       "      <td>1</td>\n",
       "      <td>34 days 20:17:59</td>\n",
       "      <td>34.845822</td>\n",
       "    </tr>\n",
       "    <tr>\n",
       "      <th>14</th>\n",
       "      <td>327174d3648a2d047e8940d7d15204ca</td>\n",
       "      <td>2018-04-03</td>\n",
       "      <td>1ceb590cd1e00c7ee95220971f82693d</td>\n",
       "      <td>organic_search</td>\n",
       "      <td>4</td>\n",
       "      <td>Tuesday</td>\n",
       "      <td>1</td>\n",
       "      <td>612170e34b97004b3ba37eae81836b4c</td>\n",
       "      <td>b90f87164b5f8c2cfa5c8572834dbe3f</td>\n",
       "      <td>6565aa9ce3178a5caf6171827af3a9ba</td>\n",
       "      <td>...</td>\n",
       "      <td>cat</td>\n",
       "      <td>NaN</td>\n",
       "      <td>NaN</td>\n",
       "      <td>NaN</td>\n",
       "      <td>reseller</td>\n",
       "      <td>NaN</td>\n",
       "      <td>0.0</td>\n",
       "      <td>1</td>\n",
       "      <td>63 days 17:27:23</td>\n",
       "      <td>63.727350</td>\n",
       "    </tr>\n",
       "    <tr>\n",
       "      <th>39</th>\n",
       "      <td>f5fee8f7da74f4887f5bcae2bafb6dd6</td>\n",
       "      <td>2018-01-14</td>\n",
       "      <td>22c29808c4f815213303f8933030604c</td>\n",
       "      <td>paid_search</td>\n",
       "      <td>1</td>\n",
       "      <td>Sunday</td>\n",
       "      <td>0</td>\n",
       "      <td>21e1781e36faf92725dde4730a88ca0f</td>\n",
       "      <td>56bf83c4bb35763a51c2baab501b4c67</td>\n",
       "      <td>d3d1e91a157ea7f90548eef82f1955e3</td>\n",
       "      <td>...</td>\n",
       "      <td>NaN</td>\n",
       "      <td>NaN</td>\n",
       "      <td>NaN</td>\n",
       "      <td>NaN</td>\n",
       "      <td>reseller</td>\n",
       "      <td>NaN</td>\n",
       "      <td>0.0</td>\n",
       "      <td>1</td>\n",
       "      <td>3 days 13:51:03</td>\n",
       "      <td>3.577118</td>\n",
       "    </tr>\n",
       "    <tr>\n",
       "      <th>67</th>\n",
       "      <td>ffe640179b554e295c167a2f6be528e0</td>\n",
       "      <td>2017-10-09</td>\n",
       "      <td>a0fbc0263cb98bdb0d72b9f9f283a172</td>\n",
       "      <td>unknown</td>\n",
       "      <td>10</td>\n",
       "      <td>Monday</td>\n",
       "      <td>1</td>\n",
       "      <td>ed8cb7b190ceb6067227478e48cf8dde</td>\n",
       "      <td>4b339f9567d060bcea4f5136b9f5949e</td>\n",
       "      <td>d3d1e91a157ea7f90548eef82f1955e3</td>\n",
       "      <td>...</td>\n",
       "      <td>wolf</td>\n",
       "      <td>NaN</td>\n",
       "      <td>NaN</td>\n",
       "      <td>NaN</td>\n",
       "      <td>manufacturer</td>\n",
       "      <td>NaN</td>\n",
       "      <td>0.0</td>\n",
       "      <td>1</td>\n",
       "      <td>267 days 20:17:45</td>\n",
       "      <td>267.845660</td>\n",
       "    </tr>\n",
       "  </tbody>\n",
       "</table>\n",
       "<p>5 rows × 23 columns</p>\n",
       "</div>"
      ],
      "text/plain": [
       "                              mql_id first_contact_date  \\\n",
       "4   5420aad7fec3549a85876ba1c529bd84         2018-02-21   \n",
       "12  a555fb36b9368110ede0f043dfc3b9a0         2018-04-04   \n",
       "14  327174d3648a2d047e8940d7d15204ca         2018-04-03   \n",
       "39  f5fee8f7da74f4887f5bcae2bafb6dd6         2018-01-14   \n",
       "67  ffe640179b554e295c167a2f6be528e0         2017-10-09   \n",
       "\n",
       "                     landing_page_id          origin  first_contact_month  \\\n",
       "4   b48ec5f3b04e9068441002a19df93c6c  organic_search                    2   \n",
       "12  2f08471dfb83baef522f952438a36f6e        referral                    4   \n",
       "14  1ceb590cd1e00c7ee95220971f82693d  organic_search                    4   \n",
       "39  22c29808c4f815213303f8933030604c     paid_search                    1   \n",
       "67  a0fbc0263cb98bdb0d72b9f9f283a172         unknown                   10   \n",
       "\n",
       "   first_contact_day  weekday_ind                         seller_id  \\\n",
       "4          Wednesday            1  2c43fb513632d29b3b58df74816f1b06   \n",
       "12         Wednesday            1  bbb7d7893a450660432ea6652310ebb7   \n",
       "14           Tuesday            1  612170e34b97004b3ba37eae81836b4c   \n",
       "39            Sunday            0  21e1781e36faf92725dde4730a88ca0f   \n",
       "67            Monday            1  ed8cb7b190ceb6067227478e48cf8dde   \n",
       "\n",
       "                              sdr_id                             sr_id  \\\n",
       "4   a8387c01a09e99ce014107505b92388c  4ef15afb4b2723d8f3d81e51ec7afefe   \n",
       "12  09285259593c61296eef10c734121d5b  d3d1e91a157ea7f90548eef82f1955e3   \n",
       "14  b90f87164b5f8c2cfa5c8572834dbe3f  6565aa9ce3178a5caf6171827af3a9ba   \n",
       "39  56bf83c4bb35763a51c2baab501b4c67  d3d1e91a157ea7f90548eef82f1955e3   \n",
       "67  4b339f9567d060bcea4f5136b9f5949e  d3d1e91a157ea7f90548eef82f1955e3   \n",
       "\n",
       "          ...         lead_behaviour_profile has_company has_gtin  \\\n",
       "4         ...                            cat         NaN      NaN   \n",
       "12        ...                          eagle         NaN      NaN   \n",
       "14        ...                            cat         NaN      NaN   \n",
       "39        ...                            NaN         NaN      NaN   \n",
       "67        ...                           wolf         NaN      NaN   \n",
       "\n",
       "   average_stock business_type declared_product_catalog_size  \\\n",
       "4            NaN      reseller                           NaN   \n",
       "12           NaN      reseller                           NaN   \n",
       "14           NaN      reseller                           NaN   \n",
       "39           NaN      reseller                           NaN   \n",
       "67           NaN  manufacturer                           NaN   \n",
       "\n",
       "   declared_monthly_revenue closed_deal     days_to_close  days_to_close_num  \n",
       "4                       0.0           1   5 days 19:58:54           5.832569  \n",
       "12                      0.0           1  34 days 20:17:59          34.845822  \n",
       "14                      0.0           1  63 days 17:27:23          63.727350  \n",
       "39                      0.0           1   3 days 13:51:03           3.577118  \n",
       "67                      0.0           1 267 days 20:17:45         267.845660  \n",
       "\n",
       "[5 rows x 23 columns]"
      ]
     },
     "execution_count": 18,
     "metadata": {},
     "output_type": "execute_result"
    }
   ],
   "source": [
    "# create dataset with only closed deals\n",
    "newMF = mf[mf.closed_deal == 1]\n",
    "newMF.shape # should be 841\n",
    "newMF.head()"
   ]
  },
  {
   "cell_type": "code",
   "execution_count": 19,
   "metadata": {},
   "outputs": [
    {
     "data": {
      "text/plain": [
       "organic_search       0.326481\n",
       "paid_search          0.235792\n",
       "unknown              0.216445\n",
       "social               0.090689\n",
       "direct_traffic       0.067715\n",
       "referral             0.029021\n",
       "email                0.018138\n",
       "display              0.007255\n",
       "other                0.004837\n",
       "other_publicities    0.003628\n",
       "Name: origin, dtype: float64"
      ]
     },
     "execution_count": 19,
     "metadata": {},
     "output_type": "execute_result"
    },
    {
     "data": {
      "text/plain": [
       "<matplotlib.axes._subplots.AxesSubplot at 0x117dd7668>"
      ]
     },
     "execution_count": 19,
     "metadata": {},
     "output_type": "execute_result"
    },
    {
     "data": {
      "image/png": "[encoded data removed]",
      "text/plain": [
       "<Figure size 1080x720 with 1 Axes>"
      ]
     },
     "metadata": {},
     "output_type": "display_data"
    }
   ],
   "source": [
    "newMF.origin.value_counts(normalize=True)\n",
    "sns.countplot(x = newMF.origin, data = newMF, order = newMF.origin.value_counts().index)"
   ]
  },
  {
   "cell_type": "code",
   "execution_count": 20,
   "metadata": {},
   "outputs": [
    {
     "data": {
      "text/plain": [
       "22c29808c4f815213303f8933030604c    0.206897\n",
       "b76ef37428e6799c421989521c0e5077    0.203329\n",
       "40dec9f3d5259a3d2dbcdab2114fae47    0.079667\n",
       "ce1a65abd0973638f1c887a6efcfa82d    0.070155\n",
       "88740e65d5d6b056e0cda098e1ea6313    0.036861\n",
       "58326e62183c14b0c03085c33b9fdc44    0.032105\n",
       "f017be4dbf86243af5c1ebed0cff36a2    0.024970\n",
       "a7982125ff7aa3b2054c6e44f9d28522    0.021403\n",
       "241f79c7a8fe0270f4fb79fcbbcd17ad    0.016647\n",
       "7fa6214d82e911d070f51ef79381b956    0.013080\n",
       "Name: landing_page_id, dtype: float64"
      ]
     },
     "execution_count": 20,
     "metadata": {},
     "output_type": "execute_result"
    }
   ],
   "source": [
    "newMF.landing_page_id.value_counts(normalize=True).head(n=10)"
   ]
  },
  {
   "cell_type": "code",
   "execution_count": 21,
   "metadata": {},
   "outputs": [
    {
     "data": {
      "text/plain": [
       "1    0.882283\n",
       "0    0.117717\n",
       "Name: weekday_ind, dtype: float64"
      ]
     },
     "execution_count": 21,
     "metadata": {},
     "output_type": "execute_result"
    }
   ],
   "source": [
    "newMF.weekday_ind.value_counts(normalize=True).head()"
   ]
  },
  {
   "cell_type": "markdown",
   "metadata": {},
   "source": [
    "**Insights**\n",
    "----------------\n",
    "- **Organic Search and Paid Search** account for **56%** of customers who closed the deal\n",
    "- **Top 2 landing pages** account for **41%** of customers who closed the deal\n",
    "    - *22c29808c4f815213303f8933030604c & b76ef37428e6799c421989521c0e5077*\n",
    "- **88%** of the leads who end up converting have requested to be contacted during weekdays"
   ]
  },
  {
   "cell_type": "markdown",
   "metadata": {},
   "source": [
    "#### Merge with Sellers Dataset"
   ]
  },
  {
   "cell_type": "code",
   "execution_count": 22,
   "metadata": {},
   "outputs": [
    {
     "data": {
      "text/html": [
       "<div>\n",
       "<style scoped>\n",
       "    .dataframe tbody tr th:only-of-type {\n",
       "        vertical-align: middle;\n",
       "    }\n",
       "\n",
       "    .dataframe tbody tr th {\n",
       "        vertical-align: top;\n",
       "    }\n",
       "\n",
       "    .dataframe thead th {\n",
       "        text-align: right;\n",
       "    }\n",
       "</style>\n",
       "<table border=\"1\" class=\"dataframe\">\n",
       "  <thead>\n",
       "    <tr style=\"text-align: right;\">\n",
       "      <th></th>\n",
       "      <th>seller_id</th>\n",
       "      <th>seller_zip_code_prefix</th>\n",
       "      <th>seller_city</th>\n",
       "      <th>seller_state</th>\n",
       "    </tr>\n",
       "  </thead>\n",
       "  <tbody>\n",
       "    <tr>\n",
       "      <th>0</th>\n",
       "      <td>3442f8959a84dea7ee197c632cb2df15</td>\n",
       "      <td>13023</td>\n",
       "      <td>campinas</td>\n",
       "      <td>SP</td>\n",
       "    </tr>\n",
       "    <tr>\n",
       "      <th>1</th>\n",
       "      <td>d1b65fc7debc3361ea86b5f14c68d2e2</td>\n",
       "      <td>13844</td>\n",
       "      <td>mogi guacu</td>\n",
       "      <td>SP</td>\n",
       "    </tr>\n",
       "    <tr>\n",
       "      <th>2</th>\n",
       "      <td>ce3ad9de960102d0677a81f5d0bb7b2d</td>\n",
       "      <td>20031</td>\n",
       "      <td>rio de janeiro</td>\n",
       "      <td>RJ</td>\n",
       "    </tr>\n",
       "    <tr>\n",
       "      <th>3</th>\n",
       "      <td>c0f3eea2e14555b6faeea3dd58c1b1c3</td>\n",
       "      <td>4195</td>\n",
       "      <td>sao paulo</td>\n",
       "      <td>SP</td>\n",
       "    </tr>\n",
       "    <tr>\n",
       "      <th>4</th>\n",
       "      <td>51a04a8a6bdcb23deccc82b0b80742cf</td>\n",
       "      <td>12914</td>\n",
       "      <td>braganca paulista</td>\n",
       "      <td>SP</td>\n",
       "    </tr>\n",
       "  </tbody>\n",
       "</table>\n",
       "</div>"
      ],
      "text/plain": [
       "                          seller_id  seller_zip_code_prefix  \\\n",
       "0  3442f8959a84dea7ee197c632cb2df15                   13023   \n",
       "1  d1b65fc7debc3361ea86b5f14c68d2e2                   13844   \n",
       "2  ce3ad9de960102d0677a81f5d0bb7b2d                   20031   \n",
       "3  c0f3eea2e14555b6faeea3dd58c1b1c3                    4195   \n",
       "4  51a04a8a6bdcb23deccc82b0b80742cf                   12914   \n",
       "\n",
       "         seller_city seller_state  \n",
       "0           campinas           SP  \n",
       "1         mogi guacu           SP  \n",
       "2     rio de janeiro           RJ  \n",
       "3          sao paulo           SP  \n",
       "4  braganca paulista           SP  "
      ]
     },
     "execution_count": 22,
     "metadata": {},
     "output_type": "execute_result"
    },
    {
     "data": {
      "text/plain": [
       "(3095, 4)"
      ]
     },
     "execution_count": 22,
     "metadata": {},
     "output_type": "execute_result"
    }
   ],
   "source": [
    "sellers = pd.read_csv(\"./marketing-funnel-olist/ecommerce/olist_sellers_dataset.csv\")\n",
    "sellers.head()\n",
    "sellers.shape"
   ]
  },
  {
   "cell_type": "code",
   "execution_count": 23,
   "metadata": {},
   "outputs": [
    {
     "data": {
      "text/html": [
       "<div>\n",
       "<style scoped>\n",
       "    .dataframe tbody tr th:only-of-type {\n",
       "        vertical-align: middle;\n",
       "    }\n",
       "\n",
       "    .dataframe tbody tr th {\n",
       "        vertical-align: top;\n",
       "    }\n",
       "\n",
       "    .dataframe thead th {\n",
       "        text-align: right;\n",
       "    }\n",
       "</style>\n",
       "<table border=\"1\" class=\"dataframe\">\n",
       "  <thead>\n",
       "    <tr style=\"text-align: right;\">\n",
       "      <th></th>\n",
       "      <th>seller_id</th>\n",
       "      <th>seller_zip_code_prefix</th>\n",
       "      <th>seller_city</th>\n",
       "      <th>seller_state</th>\n",
       "    </tr>\n",
       "  </thead>\n",
       "  <tbody>\n",
       "    <tr>\n",
       "      <th>count</th>\n",
       "      <td>3095</td>\n",
       "      <td>3095.000000</td>\n",
       "      <td>3095</td>\n",
       "      <td>3095</td>\n",
       "    </tr>\n",
       "    <tr>\n",
       "      <th>unique</th>\n",
       "      <td>3095</td>\n",
       "      <td>NaN</td>\n",
       "      <td>611</td>\n",
       "      <td>23</td>\n",
       "    </tr>\n",
       "    <tr>\n",
       "      <th>top</th>\n",
       "      <td>1d8dbc4f32378d715c717c1c1fc57bae</td>\n",
       "      <td>NaN</td>\n",
       "      <td>sao paulo</td>\n",
       "      <td>SP</td>\n",
       "    </tr>\n",
       "    <tr>\n",
       "      <th>freq</th>\n",
       "      <td>1</td>\n",
       "      <td>NaN</td>\n",
       "      <td>694</td>\n",
       "      <td>1849</td>\n",
       "    </tr>\n",
       "    <tr>\n",
       "      <th>mean</th>\n",
       "      <td>NaN</td>\n",
       "      <td>32291.059451</td>\n",
       "      <td>NaN</td>\n",
       "      <td>NaN</td>\n",
       "    </tr>\n",
       "    <tr>\n",
       "      <th>std</th>\n",
       "      <td>NaN</td>\n",
       "      <td>32713.453830</td>\n",
       "      <td>NaN</td>\n",
       "      <td>NaN</td>\n",
       "    </tr>\n",
       "    <tr>\n",
       "      <th>min</th>\n",
       "      <td>NaN</td>\n",
       "      <td>1001.000000</td>\n",
       "      <td>NaN</td>\n",
       "      <td>NaN</td>\n",
       "    </tr>\n",
       "    <tr>\n",
       "      <th>25%</th>\n",
       "      <td>NaN</td>\n",
       "      <td>7093.500000</td>\n",
       "      <td>NaN</td>\n",
       "      <td>NaN</td>\n",
       "    </tr>\n",
       "    <tr>\n",
       "      <th>50%</th>\n",
       "      <td>NaN</td>\n",
       "      <td>14940.000000</td>\n",
       "      <td>NaN</td>\n",
       "      <td>NaN</td>\n",
       "    </tr>\n",
       "    <tr>\n",
       "      <th>75%</th>\n",
       "      <td>NaN</td>\n",
       "      <td>64552.500000</td>\n",
       "      <td>NaN</td>\n",
       "      <td>NaN</td>\n",
       "    </tr>\n",
       "    <tr>\n",
       "      <th>max</th>\n",
       "      <td>NaN</td>\n",
       "      <td>99730.000000</td>\n",
       "      <td>NaN</td>\n",
       "      <td>NaN</td>\n",
       "    </tr>\n",
       "  </tbody>\n",
       "</table>\n",
       "</div>"
      ],
      "text/plain": [
       "                               seller_id  seller_zip_code_prefix seller_city  \\\n",
       "count                               3095             3095.000000        3095   \n",
       "unique                              3095                     NaN         611   \n",
       "top     1d8dbc4f32378d715c717c1c1fc57bae                     NaN   sao paulo   \n",
       "freq                                   1                     NaN         694   \n",
       "mean                                 NaN            32291.059451         NaN   \n",
       "std                                  NaN            32713.453830         NaN   \n",
       "min                                  NaN             1001.000000         NaN   \n",
       "25%                                  NaN             7093.500000         NaN   \n",
       "50%                                  NaN            14940.000000         NaN   \n",
       "75%                                  NaN            64552.500000         NaN   \n",
       "max                                  NaN            99730.000000         NaN   \n",
       "\n",
       "       seller_state  \n",
       "count          3095  \n",
       "unique           23  \n",
       "top              SP  \n",
       "freq           1849  \n",
       "mean            NaN  \n",
       "std             NaN  \n",
       "min             NaN  \n",
       "25%             NaN  \n",
       "50%             NaN  \n",
       "75%             NaN  \n",
       "max             NaN  "
      ]
     },
     "execution_count": 23,
     "metadata": {},
     "output_type": "execute_result"
    }
   ],
   "source": [
    "sellers.describe(include='all')"
   ]
  },
  {
   "cell_type": "code",
   "execution_count": 24,
   "metadata": {},
   "outputs": [
    {
     "data": {
      "text/plain": [
       "(841, 26)"
      ]
     },
     "execution_count": 24,
     "metadata": {},
     "output_type": "execute_result"
    },
    {
     "data": {
      "text/html": [
       "<div>\n",
       "<style scoped>\n",
       "    .dataframe tbody tr th:only-of-type {\n",
       "        vertical-align: middle;\n",
       "    }\n",
       "\n",
       "    .dataframe tbody tr th {\n",
       "        vertical-align: top;\n",
       "    }\n",
       "\n",
       "    .dataframe thead th {\n",
       "        text-align: right;\n",
       "    }\n",
       "</style>\n",
       "<table border=\"1\" class=\"dataframe\">\n",
       "  <thead>\n",
       "    <tr style=\"text-align: right;\">\n",
       "      <th></th>\n",
       "      <th>mql_id</th>\n",
       "      <th>first_contact_date</th>\n",
       "      <th>landing_page_id</th>\n",
       "      <th>origin</th>\n",
       "      <th>first_contact_month</th>\n",
       "      <th>first_contact_day</th>\n",
       "      <th>weekday_ind</th>\n",
       "      <th>seller_id</th>\n",
       "      <th>sdr_id</th>\n",
       "      <th>sr_id</th>\n",
       "      <th>...</th>\n",
       "      <th>average_stock</th>\n",
       "      <th>business_type</th>\n",
       "      <th>declared_product_catalog_size</th>\n",
       "      <th>declared_monthly_revenue</th>\n",
       "      <th>closed_deal</th>\n",
       "      <th>days_to_close</th>\n",
       "      <th>days_to_close_num</th>\n",
       "      <th>seller_zip_code_prefix</th>\n",
       "      <th>seller_city</th>\n",
       "      <th>seller_state</th>\n",
       "    </tr>\n",
       "  </thead>\n",
       "  <tbody>\n",
       "    <tr>\n",
       "      <th>0</th>\n",
       "      <td>5420aad7fec3549a85876ba1c529bd84</td>\n",
       "      <td>2018-02-21</td>\n",
       "      <td>b48ec5f3b04e9068441002a19df93c6c</td>\n",
       "      <td>organic_search</td>\n",
       "      <td>2</td>\n",
       "      <td>Wednesday</td>\n",
       "      <td>1</td>\n",
       "      <td>2c43fb513632d29b3b58df74816f1b06</td>\n",
       "      <td>a8387c01a09e99ce014107505b92388c</td>\n",
       "      <td>4ef15afb4b2723d8f3d81e51ec7afefe</td>\n",
       "      <td>...</td>\n",
       "      <td>NaN</td>\n",
       "      <td>reseller</td>\n",
       "      <td>NaN</td>\n",
       "      <td>0.0</td>\n",
       "      <td>1</td>\n",
       "      <td>5 days 19:58:54</td>\n",
       "      <td>5.832569</td>\n",
       "      <td>30421.0</td>\n",
       "      <td>belo horizonte</td>\n",
       "      <td>MG</td>\n",
       "    </tr>\n",
       "    <tr>\n",
       "      <th>1</th>\n",
       "      <td>a555fb36b9368110ede0f043dfc3b9a0</td>\n",
       "      <td>2018-04-04</td>\n",
       "      <td>2f08471dfb83baef522f952438a36f6e</td>\n",
       "      <td>referral</td>\n",
       "      <td>4</td>\n",
       "      <td>Wednesday</td>\n",
       "      <td>1</td>\n",
       "      <td>bbb7d7893a450660432ea6652310ebb7</td>\n",
       "      <td>09285259593c61296eef10c734121d5b</td>\n",
       "      <td>d3d1e91a157ea7f90548eef82f1955e3</td>\n",
       "      <td>...</td>\n",
       "      <td>NaN</td>\n",
       "      <td>reseller</td>\n",
       "      <td>NaN</td>\n",
       "      <td>0.0</td>\n",
       "      <td>1</td>\n",
       "      <td>34 days 20:17:59</td>\n",
       "      <td>34.845822</td>\n",
       "      <td>NaN</td>\n",
       "      <td>NaN</td>\n",
       "      <td>NaN</td>\n",
       "    </tr>\n",
       "    <tr>\n",
       "      <th>2</th>\n",
       "      <td>327174d3648a2d047e8940d7d15204ca</td>\n",
       "      <td>2018-04-03</td>\n",
       "      <td>1ceb590cd1e00c7ee95220971f82693d</td>\n",
       "      <td>organic_search</td>\n",
       "      <td>4</td>\n",
       "      <td>Tuesday</td>\n",
       "      <td>1</td>\n",
       "      <td>612170e34b97004b3ba37eae81836b4c</td>\n",
       "      <td>b90f87164b5f8c2cfa5c8572834dbe3f</td>\n",
       "      <td>6565aa9ce3178a5caf6171827af3a9ba</td>\n",
       "      <td>...</td>\n",
       "      <td>NaN</td>\n",
       "      <td>reseller</td>\n",
       "      <td>NaN</td>\n",
       "      <td>0.0</td>\n",
       "      <td>1</td>\n",
       "      <td>63 days 17:27:23</td>\n",
       "      <td>63.727350</td>\n",
       "      <td>93542.0</td>\n",
       "      <td>novo hamburgo</td>\n",
       "      <td>RS</td>\n",
       "    </tr>\n",
       "    <tr>\n",
       "      <th>3</th>\n",
       "      <td>f5fee8f7da74f4887f5bcae2bafb6dd6</td>\n",
       "      <td>2018-01-14</td>\n",
       "      <td>22c29808c4f815213303f8933030604c</td>\n",
       "      <td>paid_search</td>\n",
       "      <td>1</td>\n",
       "      <td>Sunday</td>\n",
       "      <td>0</td>\n",
       "      <td>21e1781e36faf92725dde4730a88ca0f</td>\n",
       "      <td>56bf83c4bb35763a51c2baab501b4c67</td>\n",
       "      <td>d3d1e91a157ea7f90548eef82f1955e3</td>\n",
       "      <td>...</td>\n",
       "      <td>NaN</td>\n",
       "      <td>reseller</td>\n",
       "      <td>NaN</td>\n",
       "      <td>0.0</td>\n",
       "      <td>1</td>\n",
       "      <td>3 days 13:51:03</td>\n",
       "      <td>3.577118</td>\n",
       "      <td>NaN</td>\n",
       "      <td>NaN</td>\n",
       "      <td>NaN</td>\n",
       "    </tr>\n",
       "    <tr>\n",
       "      <th>4</th>\n",
       "      <td>ffe640179b554e295c167a2f6be528e0</td>\n",
       "      <td>2017-10-09</td>\n",
       "      <td>a0fbc0263cb98bdb0d72b9f9f283a172</td>\n",
       "      <td>unknown</td>\n",
       "      <td>10</td>\n",
       "      <td>Monday</td>\n",
       "      <td>1</td>\n",
       "      <td>ed8cb7b190ceb6067227478e48cf8dde</td>\n",
       "      <td>4b339f9567d060bcea4f5136b9f5949e</td>\n",
       "      <td>d3d1e91a157ea7f90548eef82f1955e3</td>\n",
       "      <td>...</td>\n",
       "      <td>NaN</td>\n",
       "      <td>manufacturer</td>\n",
       "      <td>NaN</td>\n",
       "      <td>0.0</td>\n",
       "      <td>1</td>\n",
       "      <td>267 days 20:17:45</td>\n",
       "      <td>267.845660</td>\n",
       "      <td>11015.0</td>\n",
       "      <td>santos</td>\n",
       "      <td>SP</td>\n",
       "    </tr>\n",
       "  </tbody>\n",
       "</table>\n",
       "<p>5 rows × 26 columns</p>\n",
       "</div>"
      ],
      "text/plain": [
       "                             mql_id first_contact_date  \\\n",
       "0  5420aad7fec3549a85876ba1c529bd84         2018-02-21   \n",
       "1  a555fb36b9368110ede0f043dfc3b9a0         2018-04-04   \n",
       "2  327174d3648a2d047e8940d7d15204ca         2018-04-03   \n",
       "3  f5fee8f7da74f4887f5bcae2bafb6dd6         2018-01-14   \n",
       "4  ffe640179b554e295c167a2f6be528e0         2017-10-09   \n",
       "\n",
       "                    landing_page_id          origin  first_contact_month  \\\n",
       "0  b48ec5f3b04e9068441002a19df93c6c  organic_search                    2   \n",
       "1  2f08471dfb83baef522f952438a36f6e        referral                    4   \n",
       "2  1ceb590cd1e00c7ee95220971f82693d  organic_search                    4   \n",
       "3  22c29808c4f815213303f8933030604c     paid_search                    1   \n",
       "4  a0fbc0263cb98bdb0d72b9f9f283a172         unknown                   10   \n",
       "\n",
       "  first_contact_day  weekday_ind                         seller_id  \\\n",
       "0         Wednesday            1  2c43fb513632d29b3b58df74816f1b06   \n",
       "1         Wednesday            1  bbb7d7893a450660432ea6652310ebb7   \n",
       "2           Tuesday            1  612170e34b97004b3ba37eae81836b4c   \n",
       "3            Sunday            0  21e1781e36faf92725dde4730a88ca0f   \n",
       "4            Monday            1  ed8cb7b190ceb6067227478e48cf8dde   \n",
       "\n",
       "                             sdr_id                             sr_id  \\\n",
       "0  a8387c01a09e99ce014107505b92388c  4ef15afb4b2723d8f3d81e51ec7afefe   \n",
       "1  09285259593c61296eef10c734121d5b  d3d1e91a157ea7f90548eef82f1955e3   \n",
       "2  b90f87164b5f8c2cfa5c8572834dbe3f  6565aa9ce3178a5caf6171827af3a9ba   \n",
       "3  56bf83c4bb35763a51c2baab501b4c67  d3d1e91a157ea7f90548eef82f1955e3   \n",
       "4  4b339f9567d060bcea4f5136b9f5949e  d3d1e91a157ea7f90548eef82f1955e3   \n",
       "\n",
       "       ...      average_stock business_type declared_product_catalog_size  \\\n",
       "0      ...                NaN      reseller                           NaN   \n",
       "1      ...                NaN      reseller                           NaN   \n",
       "2      ...                NaN      reseller                           NaN   \n",
       "3      ...                NaN      reseller                           NaN   \n",
       "4      ...                NaN  manufacturer                           NaN   \n",
       "\n",
       "  declared_monthly_revenue closed_deal     days_to_close days_to_close_num  \\\n",
       "0                      0.0           1   5 days 19:58:54          5.832569   \n",
       "1                      0.0           1  34 days 20:17:59         34.845822   \n",
       "2                      0.0           1  63 days 17:27:23         63.727350   \n",
       "3                      0.0           1   3 days 13:51:03          3.577118   \n",
       "4                      0.0           1 267 days 20:17:45        267.845660   \n",
       "\n",
       "  seller_zip_code_prefix     seller_city  seller_state  \n",
       "0                30421.0  belo horizonte            MG  \n",
       "1                    NaN             NaN           NaN  \n",
       "2                93542.0   novo hamburgo            RS  \n",
       "3                    NaN             NaN           NaN  \n",
       "4                11015.0          santos            SP  \n",
       "\n",
       "[5 rows x 26 columns]"
      ]
     },
     "execution_count": 24,
     "metadata": {},
     "output_type": "execute_result"
    }
   ],
   "source": [
    "newMFSell = newMF.merge(sellers, how = 'left', on = 'seller_id')\n",
    "newMFSell.shape\n",
    "newMFSell.head()"
   ]
  },
  {
   "cell_type": "code",
   "execution_count": 25,
   "metadata": {},
   "outputs": [
    {
     "name": "stdout",
     "output_type": "stream",
     "text": [
      "54.93% of the Sellers have missing City & State details.\n"
     ]
    },
    {
     "data": {
      "text/plain": [
       "sao paulo         0.229551\n",
       "rio de janeiro    0.039578\n",
       "guarulhos         0.031662\n",
       "curitiba          0.023747\n",
       "ribeirao preto    0.021108\n",
       "Name: seller_city, dtype: float64"
      ]
     },
     "execution_count": 25,
     "metadata": {},
     "output_type": "execute_result"
    }
   ],
   "source": [
    "print(\"{:.2%}\".format(len(newMFSell[newMFSell.seller_city.isna()])/len(newMF)) + \" of the Sellers have missing City & State details.\")\n",
    "newMFSell.seller_city.value_counts(normalize=True).head()"
   ]
  },
  {
   "cell_type": "code",
   "execution_count": 26,
   "metadata": {},
   "outputs": [
    {
     "data": {
      "text/plain": [
       "home_decor                         0.125000\n",
       "health_beauty                      0.109524\n",
       "car_accessories                    0.091667\n",
       "household_utilities                0.084524\n",
       "construction_tools_house_garden    0.082143\n",
       "audio_video_electronics            0.076190\n",
       "computers                          0.040476\n",
       "pet                                0.035714\n",
       "food_supplement                    0.033333\n",
       "food_drink                         0.030952\n",
       "sports_leisure                     0.029762\n",
       "bags_backpacks                     0.026190\n",
       "bed_bath_table                     0.026190\n",
       "toys                               0.023810\n",
       "fashion_accessories                0.022619\n",
       "home_office_furniture              0.016667\n",
       "stationery                         0.015476\n",
       "phone_mobile                       0.015476\n",
       "small_appliances                   0.014286\n",
       "handcrafted                        0.014286\n",
       "baby                               0.011905\n",
       "music_instruments                  0.010714\n",
       "books                              0.010714\n",
       "watches                            0.009524\n",
       "jewerly                            0.009524\n",
       "home_appliances                    0.008333\n",
       "party                              0.005952\n",
       "gifts                              0.005952\n",
       "air_conditioning                   0.003571\n",
       "other                              0.003571\n",
       "games_consoles                     0.002381\n",
       "perfume                            0.002381\n",
       "religious                          0.001190\n",
       "Name: business_segment, dtype: float64"
      ]
     },
     "execution_count": 26,
     "metadata": {},
     "output_type": "execute_result"
    },
    {
     "data": {
      "text/plain": [
       "[Text(0, 0, 'home_decor'),\n",
       " Text(0, 0, 'health_beauty'),\n",
       " Text(0, 0, 'car_accessories'),\n",
       " Text(0, 0, 'household_utilities'),\n",
       " Text(0, 0, 'construction_tools_house_garden'),\n",
       " Text(0, 0, 'audio_video_electronics'),\n",
       " Text(0, 0, 'computers'),\n",
       " Text(0, 0, 'pet'),\n",
       " Text(0, 0, 'food_supplement'),\n",
       " Text(0, 0, 'food_drink'),\n",
       " Text(0, 0, 'sports_leisure'),\n",
       " Text(0, 0, 'bags_backpacks'),\n",
       " Text(0, 0, 'bed_bath_table'),\n",
       " Text(0, 0, 'toys'),\n",
       " Text(0, 0, 'fashion_accessories'),\n",
       " Text(0, 0, 'home_office_furniture'),\n",
       " Text(0, 0, 'stationery'),\n",
       " Text(0, 0, 'phone_mobile'),\n",
       " Text(0, 0, 'small_appliances'),\n",
       " Text(0, 0, 'handcrafted'),\n",
       " Text(0, 0, 'baby'),\n",
       " Text(0, 0, 'music_instruments'),\n",
       " Text(0, 0, 'books'),\n",
       " Text(0, 0, 'watches'),\n",
       " Text(0, 0, 'jewerly'),\n",
       " Text(0, 0, 'home_appliances'),\n",
       " Text(0, 0, 'party'),\n",
       " Text(0, 0, 'gifts'),\n",
       " Text(0, 0, 'air_conditioning'),\n",
       " Text(0, 0, 'other'),\n",
       " Text(0, 0, 'games_consoles'),\n",
       " Text(0, 0, 'perfume'),\n",
       " Text(0, 0, 'religious')]"
      ]
     },
     "execution_count": 26,
     "metadata": {},
     "output_type": "execute_result"
    },
    {
     "data": {
      "image/png": "[encoded data removed]",
      "text/plain": [
       "<Figure size 1080x720 with 1 Axes>"
      ]
     },
     "metadata": {},
     "output_type": "display_data"
    }
   ],
   "source": [
    "newMFSell.business_segment.value_counts(normalize=True)\n",
    "chart = sns.countplot(x = newMFSell.business_segment, data = newMFSell, order = newMF.business_segment.value_counts().index)\n",
    "chart.set_xticklabels(chart.get_xticklabels(), rotation=90)"
   ]
  },
  {
   "cell_type": "code",
   "execution_count": 27,
   "metadata": {},
   "outputs": [
    {
     "data": {
      "text/plain": [
       "online_medium      0.397605\n",
       "online_big         0.149701\n",
       "industry           0.147305\n",
       "offline            0.124551\n",
       "online_small       0.092216\n",
       "online_beginner    0.068263\n",
       "online_top         0.016766\n",
       "other              0.003593\n",
       "Name: lead_type, dtype: float64"
      ]
     },
     "execution_count": 27,
     "metadata": {},
     "output_type": "execute_result"
    },
    {
     "data": {
      "text/plain": [
       "<matplotlib.axes._subplots.AxesSubplot at 0x11744b390>"
      ]
     },
     "execution_count": 27,
     "metadata": {},
     "output_type": "execute_result"
    },
    {
     "data": {
      "image/png": "[encoded data removed]",
      "text/plain": [
       "<Figure size 1080x720 with 1 Axes>"
      ]
     },
     "metadata": {},
     "output_type": "display_data"
    }
   ],
   "source": [
    "newMFSell.lead_type.value_counts(normalize=True)\n",
    "sns.countplot(x = newMFSell.lead_type, data = newMFSell, order = newMF.lead_type.value_counts().index)"
   ]
  },
  {
   "cell_type": "code",
   "execution_count": 28,
   "metadata": {},
   "outputs": [
    {
     "data": {
      "text/plain": [
       "reseller        0.705174\n",
       "manufacturer    0.291215\n",
       "other           0.003610\n",
       "Name: business_type, dtype: float64"
      ]
     },
     "execution_count": 28,
     "metadata": {},
     "output_type": "execute_result"
    },
    {
     "data": {
      "text/plain": [
       "<matplotlib.axes._subplots.AxesSubplot at 0x11746c358>"
      ]
     },
     "execution_count": 28,
     "metadata": {},
     "output_type": "execute_result"
    },
    {
     "data": {
      "image/png": "[encoded data removed]",
      "text/plain": [
       "<Figure size 1080x720 with 1 Axes>"
      ]
     },
     "metadata": {},
     "output_type": "display_data"
    }
   ],
   "source": [
    "newMFSell.business_type.value_counts(normalize=True)\n",
    "sns.countplot(x = newMFSell.business_type, data = newMFSell, order = newMF.business_type.value_counts().index)"
   ]
  },
  {
   "cell_type": "markdown",
   "metadata": {},
   "source": [
    "**Insights**\n",
    "----------------\n",
    "- **Sao Paulo** is by far the most popular city in which the Sellers are based\n",
    "- **Home Decor, Health Beauty and Car Accessories** are the most popular seller segments\n",
    "- Almost half of the sellers are **Small and Medium Businesses**\n",
    "- Only **30%** of the sellers manufacture the products they sell, the other **70%** are reselling products"
   ]
  },
  {
   "cell_type": "markdown",
   "metadata": {},
   "source": [
    "#### Merge with Order Items Dataset"
   ]
  },
  {
   "cell_type": "code",
   "execution_count": 29,
   "metadata": {},
   "outputs": [
    {
     "data": {
      "text/html": [
       "<div>\n",
       "<style scoped>\n",
       "    .dataframe tbody tr th:only-of-type {\n",
       "        vertical-align: middle;\n",
       "    }\n",
       "\n",
       "    .dataframe tbody tr th {\n",
       "        vertical-align: top;\n",
       "    }\n",
       "\n",
       "    .dataframe thead th {\n",
       "        text-align: right;\n",
       "    }\n",
       "</style>\n",
       "<table border=\"1\" class=\"dataframe\">\n",
       "  <thead>\n",
       "    <tr style=\"text-align: right;\">\n",
       "      <th></th>\n",
       "      <th>order_id</th>\n",
       "      <th>order_item_id</th>\n",
       "      <th>product_id</th>\n",
       "      <th>seller_id</th>\n",
       "      <th>shipping_limit_date</th>\n",
       "      <th>price</th>\n",
       "      <th>freight_value</th>\n",
       "    </tr>\n",
       "  </thead>\n",
       "  <tbody>\n",
       "    <tr>\n",
       "      <th>0</th>\n",
       "      <td>00010242fe8c5a6d1ba2dd792cb16214</td>\n",
       "      <td>1</td>\n",
       "      <td>4244733e06e7ecb4970a6e2683c13e61</td>\n",
       "      <td>48436dade18ac8b2bce089ec2a041202</td>\n",
       "      <td>2017-09-19 09:45:35</td>\n",
       "      <td>58.90</td>\n",
       "      <td>13.29</td>\n",
       "    </tr>\n",
       "    <tr>\n",
       "      <th>1</th>\n",
       "      <td>00018f77f2f0320c557190d7a144bdd3</td>\n",
       "      <td>1</td>\n",
       "      <td>e5f2d52b802189ee658865ca93d83a8f</td>\n",
       "      <td>dd7ddc04e1b6c2c614352b383efe2d36</td>\n",
       "      <td>2017-05-03 11:05:13</td>\n",
       "      <td>239.90</td>\n",
       "      <td>19.93</td>\n",
       "    </tr>\n",
       "    <tr>\n",
       "      <th>2</th>\n",
       "      <td>000229ec398224ef6ca0657da4fc703e</td>\n",
       "      <td>1</td>\n",
       "      <td>c777355d18b72b67abbeef9df44fd0fd</td>\n",
       "      <td>5b51032eddd242adc84c38acab88f23d</td>\n",
       "      <td>2018-01-18 14:48:30</td>\n",
       "      <td>199.00</td>\n",
       "      <td>17.87</td>\n",
       "    </tr>\n",
       "    <tr>\n",
       "      <th>3</th>\n",
       "      <td>00024acbcdf0a6daa1e931b038114c75</td>\n",
       "      <td>1</td>\n",
       "      <td>7634da152a4610f1595efa32f14722fc</td>\n",
       "      <td>9d7a1d34a5052409006425275ba1c2b4</td>\n",
       "      <td>2018-08-15 10:10:18</td>\n",
       "      <td>12.99</td>\n",
       "      <td>12.79</td>\n",
       "    </tr>\n",
       "    <tr>\n",
       "      <th>4</th>\n",
       "      <td>00042b26cf59d7ce69dfabb4e55b4fd9</td>\n",
       "      <td>1</td>\n",
       "      <td>ac6c3623068f30de03045865e4e10089</td>\n",
       "      <td>df560393f3a51e74553ab94004ba5c87</td>\n",
       "      <td>2017-02-13 13:57:51</td>\n",
       "      <td>199.90</td>\n",
       "      <td>18.14</td>\n",
       "    </tr>\n",
       "  </tbody>\n",
       "</table>\n",
       "</div>"
      ],
      "text/plain": [
       "                           order_id  order_item_id  \\\n",
       "0  00010242fe8c5a6d1ba2dd792cb16214              1   \n",
       "1  00018f77f2f0320c557190d7a144bdd3              1   \n",
       "2  000229ec398224ef6ca0657da4fc703e              1   \n",
       "3  00024acbcdf0a6daa1e931b038114c75              1   \n",
       "4  00042b26cf59d7ce69dfabb4e55b4fd9              1   \n",
       "\n",
       "                         product_id                         seller_id  \\\n",
       "0  4244733e06e7ecb4970a6e2683c13e61  48436dade18ac8b2bce089ec2a041202   \n",
       "1  e5f2d52b802189ee658865ca93d83a8f  dd7ddc04e1b6c2c614352b383efe2d36   \n",
       "2  c777355d18b72b67abbeef9df44fd0fd  5b51032eddd242adc84c38acab88f23d   \n",
       "3  7634da152a4610f1595efa32f14722fc  9d7a1d34a5052409006425275ba1c2b4   \n",
       "4  ac6c3623068f30de03045865e4e10089  df560393f3a51e74553ab94004ba5c87   \n",
       "\n",
       "   shipping_limit_date   price  freight_value  \n",
       "0  2017-09-19 09:45:35   58.90          13.29  \n",
       "1  2017-05-03 11:05:13  239.90          19.93  \n",
       "2  2018-01-18 14:48:30  199.00          17.87  \n",
       "3  2018-08-15 10:10:18   12.99          12.79  \n",
       "4  2017-02-13 13:57:51  199.90          18.14  "
      ]
     },
     "execution_count": 29,
     "metadata": {},
     "output_type": "execute_result"
    },
    {
     "data": {
      "text/plain": [
       "(112650, 7)"
      ]
     },
     "execution_count": 29,
     "metadata": {},
     "output_type": "execute_result"
    }
   ],
   "source": [
    "items = pd.read_csv(\"./marketing-funnel-olist/ecommerce/olist_order_items_dataset.csv\")\n",
    "items.head()\n",
    "items.shape"
   ]
  },
  {
   "cell_type": "code",
   "execution_count": 30,
   "metadata": {},
   "outputs": [
    {
     "data": {
      "text/html": [
       "<div>\n",
       "<style scoped>\n",
       "    .dataframe tbody tr th:only-of-type {\n",
       "        vertical-align: middle;\n",
       "    }\n",
       "\n",
       "    .dataframe tbody tr th {\n",
       "        vertical-align: top;\n",
       "    }\n",
       "\n",
       "    .dataframe thead th {\n",
       "        text-align: right;\n",
       "    }\n",
       "</style>\n",
       "<table border=\"1\" class=\"dataframe\">\n",
       "  <thead>\n",
       "    <tr style=\"text-align: right;\">\n",
       "      <th></th>\n",
       "      <th>seller_id</th>\n",
       "      <th>order_value</th>\n",
       "      <th>shipping_charges</th>\n",
       "      <th>order_count</th>\n",
       "      <th>aov</th>\n",
       "    </tr>\n",
       "  </thead>\n",
       "  <tbody>\n",
       "    <tr>\n",
       "      <th>1235</th>\n",
       "      <td>6560211a19b47992c3666cc44a7e94c0</td>\n",
       "      <td>123304.83</td>\n",
       "      <td>27960.94</td>\n",
       "      <td>2033</td>\n",
       "      <td>60.651663</td>\n",
       "    </tr>\n",
       "    <tr>\n",
       "      <th>881</th>\n",
       "      <td>4a3ca9315b744ce9f8e9374361493884</td>\n",
       "      <td>200472.92</td>\n",
       "      <td>35067.04</td>\n",
       "      <td>1987</td>\n",
       "      <td>100.892260</td>\n",
       "    </tr>\n",
       "    <tr>\n",
       "      <th>368</th>\n",
       "      <td>1f50f920176fa81dab994f9023523100</td>\n",
       "      <td>106939.21</td>\n",
       "      <td>35165.77</td>\n",
       "      <td>1931</td>\n",
       "      <td>55.380223</td>\n",
       "    </tr>\n",
       "    <tr>\n",
       "      <th>2481</th>\n",
       "      <td>cc419e0650a3c5ba77189a1882b7556a</td>\n",
       "      <td>104288.42</td>\n",
       "      <td>25668.99</td>\n",
       "      <td>1775</td>\n",
       "      <td>58.754039</td>\n",
       "    </tr>\n",
       "    <tr>\n",
       "      <th>2643</th>\n",
       "      <td>da8622b14eb17ae2831f4ac5b9dab84a</td>\n",
       "      <td>160236.57</td>\n",
       "      <td>24955.75</td>\n",
       "      <td>1551</td>\n",
       "      <td>103.311779</td>\n",
       "    </tr>\n",
       "  </tbody>\n",
       "</table>\n",
       "</div>"
      ],
      "text/plain": [
       "                             seller_id  order_value  shipping_charges  \\\n",
       "1235  6560211a19b47992c3666cc44a7e94c0    123304.83          27960.94   \n",
       "881   4a3ca9315b744ce9f8e9374361493884    200472.92          35067.04   \n",
       "368   1f50f920176fa81dab994f9023523100    106939.21          35165.77   \n",
       "2481  cc419e0650a3c5ba77189a1882b7556a    104288.42          25668.99   \n",
       "2643  da8622b14eb17ae2831f4ac5b9dab84a    160236.57          24955.75   \n",
       "\n",
       "      order_count         aov  \n",
       "1235         2033   60.651663  \n",
       "881          1987  100.892260  \n",
       "368          1931   55.380223  \n",
       "2481         1775   58.754039  \n",
       "2643         1551  103.311779  "
      ]
     },
     "execution_count": 30,
     "metadata": {},
     "output_type": "execute_result"
    }
   ],
   "source": [
    "# items.seller_id.value_counts(normalize=True)\n",
    "summBySeller = items.groupby('seller_id', as_index=False).agg({\"order_id\" : \"count\", \"price\" : \"sum\", \n",
    "                                        \"freight_value\" : \"sum\"})\n",
    "summBySeller.rename({'order_id' : 'order_count', 'price' : 'order_value', 'freight_value' : 'shipping_charges'}, \n",
    "                    axis = 1, inplace = True)\n",
    "summBySeller['aov'] = summBySeller.order_value / summBySeller.order_count # average order value\n",
    "summBySeller.sort_values(by = 'order_count', ascending=False).head()"
   ]
  },
  {
   "cell_type": "code",
   "execution_count": 31,
   "metadata": {},
   "outputs": [
    {
     "data": {
      "text/html": [
       "<div>\n",
       "<style scoped>\n",
       "    .dataframe tbody tr th:only-of-type {\n",
       "        vertical-align: middle;\n",
       "    }\n",
       "\n",
       "    .dataframe tbody tr th {\n",
       "        vertical-align: top;\n",
       "    }\n",
       "\n",
       "    .dataframe thead th {\n",
       "        text-align: right;\n",
       "    }\n",
       "</style>\n",
       "<table border=\"1\" class=\"dataframe\">\n",
       "  <thead>\n",
       "    <tr style=\"text-align: right;\">\n",
       "      <th></th>\n",
       "      <th>mql_id</th>\n",
       "      <th>first_contact_date</th>\n",
       "      <th>landing_page_id</th>\n",
       "      <th>origin</th>\n",
       "      <th>first_contact_month</th>\n",
       "      <th>first_contact_day</th>\n",
       "      <th>weekday_ind</th>\n",
       "      <th>seller_id</th>\n",
       "      <th>sdr_id</th>\n",
       "      <th>sr_id</th>\n",
       "      <th>...</th>\n",
       "      <th>days_to_close</th>\n",
       "      <th>days_to_close_num</th>\n",
       "      <th>seller_zip_code_prefix</th>\n",
       "      <th>seller_city</th>\n",
       "      <th>seller_state</th>\n",
       "      <th>order_value</th>\n",
       "      <th>shipping_charges</th>\n",
       "      <th>order_count</th>\n",
       "      <th>aov</th>\n",
       "      <th>orders_exist</th>\n",
       "    </tr>\n",
       "  </thead>\n",
       "  <tbody>\n",
       "    <tr>\n",
       "      <th>0</th>\n",
       "      <td>5420aad7fec3549a85876ba1c529bd84</td>\n",
       "      <td>2018-02-21</td>\n",
       "      <td>b48ec5f3b04e9068441002a19df93c6c</td>\n",
       "      <td>organic_search</td>\n",
       "      <td>2</td>\n",
       "      <td>Wednesday</td>\n",
       "      <td>1</td>\n",
       "      <td>2c43fb513632d29b3b58df74816f1b06</td>\n",
       "      <td>a8387c01a09e99ce014107505b92388c</td>\n",
       "      <td>4ef15afb4b2723d8f3d81e51ec7afefe</td>\n",
       "      <td>...</td>\n",
       "      <td>5 days 19:58:54</td>\n",
       "      <td>5.832569</td>\n",
       "      <td>30421.0</td>\n",
       "      <td>belo horizonte</td>\n",
       "      <td>MG</td>\n",
       "      <td>858.00</td>\n",
       "      <td>72.17</td>\n",
       "      <td>3.0</td>\n",
       "      <td>286.000000</td>\n",
       "      <td>1</td>\n",
       "    </tr>\n",
       "    <tr>\n",
       "      <th>1</th>\n",
       "      <td>a555fb36b9368110ede0f043dfc3b9a0</td>\n",
       "      <td>2018-04-04</td>\n",
       "      <td>2f08471dfb83baef522f952438a36f6e</td>\n",
       "      <td>referral</td>\n",
       "      <td>4</td>\n",
       "      <td>Wednesday</td>\n",
       "      <td>1</td>\n",
       "      <td>bbb7d7893a450660432ea6652310ebb7</td>\n",
       "      <td>09285259593c61296eef10c734121d5b</td>\n",
       "      <td>d3d1e91a157ea7f90548eef82f1955e3</td>\n",
       "      <td>...</td>\n",
       "      <td>34 days 20:17:59</td>\n",
       "      <td>34.845822</td>\n",
       "      <td>NaN</td>\n",
       "      <td>NaN</td>\n",
       "      <td>NaN</td>\n",
       "      <td>NaN</td>\n",
       "      <td>NaN</td>\n",
       "      <td>NaN</td>\n",
       "      <td>NaN</td>\n",
       "      <td>0</td>\n",
       "    </tr>\n",
       "    <tr>\n",
       "      <th>2</th>\n",
       "      <td>327174d3648a2d047e8940d7d15204ca</td>\n",
       "      <td>2018-04-03</td>\n",
       "      <td>1ceb590cd1e00c7ee95220971f82693d</td>\n",
       "      <td>organic_search</td>\n",
       "      <td>4</td>\n",
       "      <td>Tuesday</td>\n",
       "      <td>1</td>\n",
       "      <td>612170e34b97004b3ba37eae81836b4c</td>\n",
       "      <td>b90f87164b5f8c2cfa5c8572834dbe3f</td>\n",
       "      <td>6565aa9ce3178a5caf6171827af3a9ba</td>\n",
       "      <td>...</td>\n",
       "      <td>63 days 17:27:23</td>\n",
       "      <td>63.727350</td>\n",
       "      <td>93542.0</td>\n",
       "      <td>novo hamburgo</td>\n",
       "      <td>RS</td>\n",
       "      <td>23065.02</td>\n",
       "      <td>2307.06</td>\n",
       "      <td>110.0</td>\n",
       "      <td>209.682000</td>\n",
       "      <td>1</td>\n",
       "    </tr>\n",
       "    <tr>\n",
       "      <th>3</th>\n",
       "      <td>f5fee8f7da74f4887f5bcae2bafb6dd6</td>\n",
       "      <td>2018-01-14</td>\n",
       "      <td>22c29808c4f815213303f8933030604c</td>\n",
       "      <td>paid_search</td>\n",
       "      <td>1</td>\n",
       "      <td>Sunday</td>\n",
       "      <td>0</td>\n",
       "      <td>21e1781e36faf92725dde4730a88ca0f</td>\n",
       "      <td>56bf83c4bb35763a51c2baab501b4c67</td>\n",
       "      <td>d3d1e91a157ea7f90548eef82f1955e3</td>\n",
       "      <td>...</td>\n",
       "      <td>3 days 13:51:03</td>\n",
       "      <td>3.577118</td>\n",
       "      <td>NaN</td>\n",
       "      <td>NaN</td>\n",
       "      <td>NaN</td>\n",
       "      <td>NaN</td>\n",
       "      <td>NaN</td>\n",
       "      <td>NaN</td>\n",
       "      <td>NaN</td>\n",
       "      <td>0</td>\n",
       "    </tr>\n",
       "    <tr>\n",
       "      <th>4</th>\n",
       "      <td>ffe640179b554e295c167a2f6be528e0</td>\n",
       "      <td>2017-10-09</td>\n",
       "      <td>a0fbc0263cb98bdb0d72b9f9f283a172</td>\n",
       "      <td>unknown</td>\n",
       "      <td>10</td>\n",
       "      <td>Monday</td>\n",
       "      <td>1</td>\n",
       "      <td>ed8cb7b190ceb6067227478e48cf8dde</td>\n",
       "      <td>4b339f9567d060bcea4f5136b9f5949e</td>\n",
       "      <td>d3d1e91a157ea7f90548eef82f1955e3</td>\n",
       "      <td>...</td>\n",
       "      <td>267 days 20:17:45</td>\n",
       "      <td>267.845660</td>\n",
       "      <td>11015.0</td>\n",
       "      <td>santos</td>\n",
       "      <td>SP</td>\n",
       "      <td>573.50</td>\n",
       "      <td>242.71</td>\n",
       "      <td>17.0</td>\n",
       "      <td>33.735294</td>\n",
       "      <td>1</td>\n",
       "    </tr>\n",
       "  </tbody>\n",
       "</table>\n",
       "<p>5 rows × 31 columns</p>\n",
       "</div>"
      ],
      "text/plain": [
       "                             mql_id first_contact_date  \\\n",
       "0  5420aad7fec3549a85876ba1c529bd84         2018-02-21   \n",
       "1  a555fb36b9368110ede0f043dfc3b9a0         2018-04-04   \n",
       "2  327174d3648a2d047e8940d7d15204ca         2018-04-03   \n",
       "3  f5fee8f7da74f4887f5bcae2bafb6dd6         2018-01-14   \n",
       "4  ffe640179b554e295c167a2f6be528e0         2017-10-09   \n",
       "\n",
       "                    landing_page_id          origin  first_contact_month  \\\n",
       "0  b48ec5f3b04e9068441002a19df93c6c  organic_search                    2   \n",
       "1  2f08471dfb83baef522f952438a36f6e        referral                    4   \n",
       "2  1ceb590cd1e00c7ee95220971f82693d  organic_search                    4   \n",
       "3  22c29808c4f815213303f8933030604c     paid_search                    1   \n",
       "4  a0fbc0263cb98bdb0d72b9f9f283a172         unknown                   10   \n",
       "\n",
       "  first_contact_day  weekday_ind                         seller_id  \\\n",
       "0         Wednesday            1  2c43fb513632d29b3b58df74816f1b06   \n",
       "1         Wednesday            1  bbb7d7893a450660432ea6652310ebb7   \n",
       "2           Tuesday            1  612170e34b97004b3ba37eae81836b4c   \n",
       "3            Sunday            0  21e1781e36faf92725dde4730a88ca0f   \n",
       "4            Monday            1  ed8cb7b190ceb6067227478e48cf8dde   \n",
       "\n",
       "                             sdr_id                             sr_id  \\\n",
       "0  a8387c01a09e99ce014107505b92388c  4ef15afb4b2723d8f3d81e51ec7afefe   \n",
       "1  09285259593c61296eef10c734121d5b  d3d1e91a157ea7f90548eef82f1955e3   \n",
       "2  b90f87164b5f8c2cfa5c8572834dbe3f  6565aa9ce3178a5caf6171827af3a9ba   \n",
       "3  56bf83c4bb35763a51c2baab501b4c67  d3d1e91a157ea7f90548eef82f1955e3   \n",
       "4  4b339f9567d060bcea4f5136b9f5949e  d3d1e91a157ea7f90548eef82f1955e3   \n",
       "\n",
       "       ...          days_to_close days_to_close_num seller_zip_code_prefix  \\\n",
       "0      ...        5 days 19:58:54          5.832569                30421.0   \n",
       "1      ...       34 days 20:17:59         34.845822                    NaN   \n",
       "2      ...       63 days 17:27:23         63.727350                93542.0   \n",
       "3      ...        3 days 13:51:03          3.577118                    NaN   \n",
       "4      ...      267 days 20:17:45        267.845660                11015.0   \n",
       "\n",
       "      seller_city seller_state order_value shipping_charges order_count  \\\n",
       "0  belo horizonte           MG      858.00            72.17         3.0   \n",
       "1             NaN          NaN         NaN              NaN         NaN   \n",
       "2   novo hamburgo           RS    23065.02          2307.06       110.0   \n",
       "3             NaN          NaN         NaN              NaN         NaN   \n",
       "4          santos           SP      573.50           242.71        17.0   \n",
       "\n",
       "          aov  orders_exist  \n",
       "0  286.000000             1  \n",
       "1         NaN             0  \n",
       "2  209.682000             1  \n",
       "3         NaN             0  \n",
       "4   33.735294             1  \n",
       "\n",
       "[5 rows x 31 columns]"
      ]
     },
     "execution_count": 31,
     "metadata": {},
     "output_type": "execute_result"
    },
    {
     "data": {
      "text/plain": [
       "(841, 31)"
      ]
     },
     "execution_count": 31,
     "metadata": {},
     "output_type": "execute_result"
    }
   ],
   "source": [
    "newMFSellOrders = newMFSell.merge(summBySeller, how = 'left', on = 'seller_id')\n",
    "newMFSellOrders['orders_exist'] = np.where(newMFSellOrders.order_count.isna() == False, 1, 0)\n",
    "newMFSellOrders.head()\n",
    "newMFSellOrders.shape"
   ]
  },
  {
   "cell_type": "code",
   "execution_count": 32,
   "metadata": {},
   "outputs": [
    {
     "name": "stdout",
     "output_type": "stream",
     "text": [
      "45% of closed leads have orders on the marketplace.\n"
     ]
    }
   ],
   "source": [
    "print(\"{:.0%}\".format(newMFSellOrders.orders_exist.sum()/len(newMFSellOrders)) + \" of closed leads have orders on the marketplace.\")"
   ]
  },
  {
   "cell_type": "code",
   "execution_count": 33,
   "metadata": {},
   "outputs": [
    {
     "name": "stdout",
     "output_type": "stream",
     "text": [
      "Days to Close Stats for Leads with Orders\n",
      "\n",
      "Average days to close - 28 days 19:04:11.213720\n",
      "Median number of days to close - 10 days 12:17:36\n",
      "Standard Deviation of days to close - 50 days 20:47:15.441281\n"
     ]
    }
   ],
   "source": [
    "# sns.distplot(newMFSellOrders[newMFSellOrders['orders_exist'] == 1]['days_to_close_num'])\n",
    "# print(\"Fastest close - \" + str(newMFSellOrders[newMFSellOrders['orders_exist'] == 1].days_to_close.min()))\n",
    "# print(\"Slowest close - \" + str(newMFSellOrders[newMFSellOrders['orders_exist'] == 1].days_to_close.max()))\n",
    "print(\"Days to Close Stats for Leads with Orders\" , end = \"\\n\\n\")\n",
    "print(\"Average days to close - \" + str(newMFSellOrders[newMFSellOrders['orders_exist'] == 1].days_to_close.mean()))\n",
    "print(\"Median number of days to close - \" + str(newMFSellOrders[newMFSellOrders['orders_exist'] == 1].days_to_close.median()))\n",
    "print(\"Standard Deviation of days to close - \" + str(newMFSellOrders[newMFSellOrders['orders_exist'] == 1].days_to_close.std()))"
   ]
  },
  {
   "cell_type": "code",
   "execution_count": 34,
   "metadata": {},
   "outputs": [
    {
     "name": "stdout",
     "output_type": "stream",
     "text": [
      "Days to Close Stats for Leads without Orders\n",
      "\n",
      "Average days to close - 65 days 20:49:30.748917\n",
      "Median number of days to close - 21 days 16:20:59.500000\n",
      "Standard Deviation of days to close - 87 days 05:03:50.738465\n"
     ]
    }
   ],
   "source": [
    "# sns.distplot(newMFSellOrders[newMFSellOrders['orders_exist'] == 0]['days_to_close_num'])\n",
    "# print(\"Fastest close - \" + str(newMFSellOrders[newMFSellOrders['orders_exist'] == 0].days_to_close.min()))\n",
    "# print(\"Slowest close - \" + str(newMFSellOrders[newMFSellOrders['orders_exist'] == 0].days_to_close.max()))\n",
    "print(\"Days to Close Stats for Leads without Orders\" , end = \"\\n\\n\")\n",
    "print(\"Average days to close - \" + str(newMFSellOrders[newMFSellOrders['orders_exist'] == 0].days_to_close.mean()))\n",
    "print(\"Median number of days to close - \" + str(newMFSellOrders[newMFSellOrders['orders_exist'] == 0].days_to_close.median()))\n",
    "print(\"Standard Deviation of days to close - \" + str(newMFSellOrders[newMFSellOrders['orders_exist'] == 0].days_to_close.std()))"
   ]
  },
  {
   "cell_type": "markdown",
   "metadata": {},
   "source": [
    "**Insights**\n",
    "----------------\n",
    "- Only **45%** of the MQLs who converted have orders on the platform\n",
    "- Leads who have orders on the marketplace closed much earlier from their first contact solicitation than leads who do not have orders on the marketplace (19 vs 65 days)"
   ]
  },
  {
   "cell_type": "markdown",
   "metadata": {},
   "source": [
    "# Modeling"
   ]
  },
  {
   "cell_type": "markdown",
   "metadata": {},
   "source": [
    "#### Data Pipeline for Modeling"
   ]
  },
  {
   "cell_type": "code",
   "execution_count": 47,
   "metadata": {},
   "outputs": [
    {
     "data": {
      "text/plain": [
       "0    7158\n",
       "1     841\n",
       "Name: closed_deal, dtype: int64"
      ]
     },
     "execution_count": 47,
     "metadata": {},
     "output_type": "execute_result"
    },
    {
     "data": {
      "text/plain": [
       "0    0.894862\n",
       "1    0.105138\n",
       "Name: closed_deal, dtype: float64"
      ]
     },
     "execution_count": 47,
     "metadata": {},
     "output_type": "execute_result"
    },
    {
     "name": "stdout",
     "output_type": "stream",
     "text": [
      "Positive Shape - (841, 7)\n",
      "Negative Shape - (7158, 7)\n"
     ]
    },
    {
     "name": "stderr",
     "output_type": "stream",
     "text": [
      "/Users/nkodiboyana/miniconda2/envs/py3/lib/python3.5/site-packages/pandas/core/generic.py:3643: SettingWithCopyWarning: \n",
      "A value is trying to be set on a copy of a slice from a DataFrame.\n",
      "Try using .loc[row_indexer,col_indexer] = value instead\n",
      "\n",
      "See the caveats in the documentation: http://pandas.pydata.org/pandas-docs/stable/indexing.html#indexing-view-versus-copy\n",
      "  self[name] = value\n",
      "/Users/nkodiboyana/miniconda2/envs/py3/lib/python3.5/site-packages/ipykernel_launcher.py:12: SettingWithCopyWarning: \n",
      "A value is trying to be set on a copy of a slice from a DataFrame.\n",
      "Try using .loc[row_indexer,col_indexer] = value instead\n",
      "\n",
      "See the caveats in the documentation: http://pandas.pydata.org/pandas-docs/stable/indexing.html#indexing-view-versus-copy\n",
      "  if sys.path[0] == '':\n"
     ]
    },
    {
     "data": {
      "text/plain": [
       "(1682, 7)"
      ]
     },
     "execution_count": 47,
     "metadata": {},
     "output_type": "execute_result"
    },
    {
     "data": {
      "text/plain": [
       "1    0.5\n",
       "0    0.5\n",
       "Name: closed_deal, dtype: float64"
      ]
     },
     "execution_count": 47,
     "metadata": {},
     "output_type": "execute_result"
    },
    {
     "data": {
      "text/plain": [
       "(1345, 7)"
      ]
     },
     "execution_count": 47,
     "metadata": {},
     "output_type": "execute_result"
    },
    {
     "data": {
      "text/plain": [
       "(337, 7)"
      ]
     },
     "execution_count": 47,
     "metadata": {},
     "output_type": "execute_result"
    },
    {
     "name": "stdout",
     "output_type": "stream",
     "text": [
      "Number of NULL origin values - 15\n",
      "Number of NULL origin values - 0\n"
     ]
    },
    {
     "data": {
      "text/html": [
       "<div>\n",
       "<style scoped>\n",
       "    .dataframe tbody tr th:only-of-type {\n",
       "        vertical-align: middle;\n",
       "    }\n",
       "\n",
       "    .dataframe tbody tr th {\n",
       "        vertical-align: top;\n",
       "    }\n",
       "\n",
       "    .dataframe thead th {\n",
       "        text-align: right;\n",
       "    }\n",
       "</style>\n",
       "<table border=\"1\" class=\"dataframe\">\n",
       "  <thead>\n",
       "    <tr style=\"text-align: right;\">\n",
       "      <th></th>\n",
       "      <th>landing_page_id_alt_22c29808c4f815213303f8933030604c</th>\n",
       "      <th>landing_page_id_alt_40dec9f3d5259a3d2dbcdab2114fae47</th>\n",
       "      <th>landing_page_id_alt_58326e62183c14b0c03085c33b9fdc44</th>\n",
       "      <th>landing_page_id_alt_73f31a40697cc90a86c1273563ac230e</th>\n",
       "      <th>landing_page_id_alt_88740e65d5d6b056e0cda098e1ea6313</th>\n",
       "      <th>landing_page_id_alt_a7982125ff7aa3b2054c6e44f9d28522</th>\n",
       "      <th>landing_page_id_alt_b76ef37428e6799c421989521c0e5077</th>\n",
       "      <th>landing_page_id_alt_ce1a65abd0973638f1c887a6efcfa82d</th>\n",
       "      <th>landing_page_id_alt_e492ee5eaf1697716985cc6f33f9cd9b</th>\n",
       "      <th>landing_page_id_alt_f017be4dbf86243af5c1ebed0cff36a2</th>\n",
       "      <th>...</th>\n",
       "      <th>origin_direct_traffic</th>\n",
       "      <th>origin_display</th>\n",
       "      <th>origin_email</th>\n",
       "      <th>origin_organic_search</th>\n",
       "      <th>origin_other</th>\n",
       "      <th>origin_other_publicities</th>\n",
       "      <th>origin_paid_search</th>\n",
       "      <th>origin_referral</th>\n",
       "      <th>origin_social</th>\n",
       "      <th>weekday_ind</th>\n",
       "    </tr>\n",
       "  </thead>\n",
       "  <tbody>\n",
       "    <tr>\n",
       "      <th>0</th>\n",
       "      <td>0</td>\n",
       "      <td>0</td>\n",
       "      <td>0</td>\n",
       "      <td>0</td>\n",
       "      <td>0</td>\n",
       "      <td>0</td>\n",
       "      <td>1</td>\n",
       "      <td>0</td>\n",
       "      <td>0</td>\n",
       "      <td>0</td>\n",
       "      <td>...</td>\n",
       "      <td>0</td>\n",
       "      <td>0</td>\n",
       "      <td>0</td>\n",
       "      <td>1</td>\n",
       "      <td>0</td>\n",
       "      <td>0</td>\n",
       "      <td>0</td>\n",
       "      <td>0</td>\n",
       "      <td>0</td>\n",
       "      <td>1</td>\n",
       "    </tr>\n",
       "    <tr>\n",
       "      <th>1</th>\n",
       "      <td>0</td>\n",
       "      <td>0</td>\n",
       "      <td>0</td>\n",
       "      <td>0</td>\n",
       "      <td>0</td>\n",
       "      <td>0</td>\n",
       "      <td>0</td>\n",
       "      <td>1</td>\n",
       "      <td>0</td>\n",
       "      <td>0</td>\n",
       "      <td>...</td>\n",
       "      <td>1</td>\n",
       "      <td>0</td>\n",
       "      <td>0</td>\n",
       "      <td>0</td>\n",
       "      <td>0</td>\n",
       "      <td>0</td>\n",
       "      <td>0</td>\n",
       "      <td>0</td>\n",
       "      <td>0</td>\n",
       "      <td>0</td>\n",
       "    </tr>\n",
       "    <tr>\n",
       "      <th>2</th>\n",
       "      <td>0</td>\n",
       "      <td>0</td>\n",
       "      <td>0</td>\n",
       "      <td>0</td>\n",
       "      <td>0</td>\n",
       "      <td>0</td>\n",
       "      <td>0</td>\n",
       "      <td>0</td>\n",
       "      <td>1</td>\n",
       "      <td>0</td>\n",
       "      <td>...</td>\n",
       "      <td>0</td>\n",
       "      <td>0</td>\n",
       "      <td>0</td>\n",
       "      <td>1</td>\n",
       "      <td>0</td>\n",
       "      <td>0</td>\n",
       "      <td>0</td>\n",
       "      <td>0</td>\n",
       "      <td>0</td>\n",
       "      <td>1</td>\n",
       "    </tr>\n",
       "    <tr>\n",
       "      <th>3</th>\n",
       "      <td>0</td>\n",
       "      <td>0</td>\n",
       "      <td>0</td>\n",
       "      <td>0</td>\n",
       "      <td>0</td>\n",
       "      <td>0</td>\n",
       "      <td>1</td>\n",
       "      <td>0</td>\n",
       "      <td>0</td>\n",
       "      <td>0</td>\n",
       "      <td>...</td>\n",
       "      <td>0</td>\n",
       "      <td>0</td>\n",
       "      <td>0</td>\n",
       "      <td>1</td>\n",
       "      <td>0</td>\n",
       "      <td>0</td>\n",
       "      <td>0</td>\n",
       "      <td>0</td>\n",
       "      <td>0</td>\n",
       "      <td>1</td>\n",
       "    </tr>\n",
       "    <tr>\n",
       "      <th>4</th>\n",
       "      <td>0</td>\n",
       "      <td>0</td>\n",
       "      <td>0</td>\n",
       "      <td>0</td>\n",
       "      <td>1</td>\n",
       "      <td>0</td>\n",
       "      <td>0</td>\n",
       "      <td>0</td>\n",
       "      <td>0</td>\n",
       "      <td>0</td>\n",
       "      <td>...</td>\n",
       "      <td>0</td>\n",
       "      <td>0</td>\n",
       "      <td>0</td>\n",
       "      <td>0</td>\n",
       "      <td>0</td>\n",
       "      <td>0</td>\n",
       "      <td>0</td>\n",
       "      <td>0</td>\n",
       "      <td>1</td>\n",
       "      <td>1</td>\n",
       "    </tr>\n",
       "  </tbody>\n",
       "</table>\n",
       "<p>5 rows × 21 columns</p>\n",
       "</div>"
      ],
      "text/plain": [
       "   landing_page_id_alt_22c29808c4f815213303f8933030604c  \\\n",
       "0                                                  0      \n",
       "1                                                  0      \n",
       "2                                                  0      \n",
       "3                                                  0      \n",
       "4                                                  0      \n",
       "\n",
       "   landing_page_id_alt_40dec9f3d5259a3d2dbcdab2114fae47  \\\n",
       "0                                                  0      \n",
       "1                                                  0      \n",
       "2                                                  0      \n",
       "3                                                  0      \n",
       "4                                                  0      \n",
       "\n",
       "   landing_page_id_alt_58326e62183c14b0c03085c33b9fdc44  \\\n",
       "0                                                  0      \n",
       "1                                                  0      \n",
       "2                                                  0      \n",
       "3                                                  0      \n",
       "4                                                  0      \n",
       "\n",
       "   landing_page_id_alt_73f31a40697cc90a86c1273563ac230e  \\\n",
       "0                                                  0      \n",
       "1                                                  0      \n",
       "2                                                  0      \n",
       "3                                                  0      \n",
       "4                                                  0      \n",
       "\n",
       "   landing_page_id_alt_88740e65d5d6b056e0cda098e1ea6313  \\\n",
       "0                                                  0      \n",
       "1                                                  0      \n",
       "2                                                  0      \n",
       "3                                                  0      \n",
       "4                                                  1      \n",
       "\n",
       "   landing_page_id_alt_a7982125ff7aa3b2054c6e44f9d28522  \\\n",
       "0                                                  0      \n",
       "1                                                  0      \n",
       "2                                                  0      \n",
       "3                                                  0      \n",
       "4                                                  0      \n",
       "\n",
       "   landing_page_id_alt_b76ef37428e6799c421989521c0e5077  \\\n",
       "0                                                  1      \n",
       "1                                                  0      \n",
       "2                                                  0      \n",
       "3                                                  1      \n",
       "4                                                  0      \n",
       "\n",
       "   landing_page_id_alt_ce1a65abd0973638f1c887a6efcfa82d  \\\n",
       "0                                                  0      \n",
       "1                                                  1      \n",
       "2                                                  0      \n",
       "3                                                  0      \n",
       "4                                                  0      \n",
       "\n",
       "   landing_page_id_alt_e492ee5eaf1697716985cc6f33f9cd9b  \\\n",
       "0                                                  0      \n",
       "1                                                  0      \n",
       "2                                                  1      \n",
       "3                                                  0      \n",
       "4                                                  0      \n",
       "\n",
       "   landing_page_id_alt_f017be4dbf86243af5c1ebed0cff36a2     ...       \\\n",
       "0                                                  0        ...        \n",
       "1                                                  0        ...        \n",
       "2                                                  0        ...        \n",
       "3                                                  0        ...        \n",
       "4                                                  0        ...        \n",
       "\n",
       "   origin_direct_traffic  origin_display  origin_email  origin_organic_search  \\\n",
       "0                      0               0             0                      1   \n",
       "1                      1               0             0                      0   \n",
       "2                      0               0             0                      1   \n",
       "3                      0               0             0                      1   \n",
       "4                      0               0             0                      0   \n",
       "\n",
       "   origin_other  origin_other_publicities  origin_paid_search  \\\n",
       "0             0                         0                   0   \n",
       "1             0                         0                   0   \n",
       "2             0                         0                   0   \n",
       "3             0                         0                   0   \n",
       "4             0                         0                   0   \n",
       "\n",
       "   origin_referral  origin_social  weekday_ind  \n",
       "0                0              0            1  \n",
       "1                0              0            0  \n",
       "2                0              0            1  \n",
       "3                0              0            1  \n",
       "4                0              1            1  \n",
       "\n",
       "[5 rows x 21 columns]"
      ]
     },
     "execution_count": 47,
     "metadata": {},
     "output_type": "execute_result"
    },
    {
     "data": {
      "text/plain": [
       "(1345, 21)"
      ]
     },
     "execution_count": 47,
     "metadata": {},
     "output_type": "execute_result"
    }
   ],
   "source": [
    "# Use only columns from MQL dataset for modeling\n",
    "col_list = ['mql_id','landing_page_id', 'origin', 'first_contact_day', 'weekday_ind', 'closed_deal']\n",
    "\n",
    "modelDF = mf[col_list]\n",
    "modelDF.closed_deal.value_counts()\n",
    "modelDF.closed_deal.value_counts(normalize=True)\n",
    "modelDF.origin = np.where(modelDF.origin == 'unknown', 'organic_search', modelDF.origin)\n",
    "\n",
    "# create landing_page_id_alt feature with only Top 10 pages visited\n",
    "compare = modelDF.landing_page_id.value_counts().head(n = 10).index.values\n",
    "# print(compare)\n",
    "modelDF['landing_page_id_alt'] = np.where(modelDF['landing_page_id'].isin(compare), modelDF['landing_page_id'], 'other')\n",
    "# modelDF.head()\n",
    "\n",
    "# down-sample 0's, as 1 value counts are only 10%\n",
    "from sklearn.utils import resample\n",
    "\n",
    "positive = modelDF[modelDF.closed_deal == 1]\n",
    "print(\"Positive Shape - \" + str(positive.shape))\n",
    "# positive.head()\n",
    "\n",
    "negative = modelDF[modelDF.closed_deal != 1]\n",
    "print(\"Negative Shape - \" + str(negative.shape))\n",
    "# negative.head()\n",
    "\n",
    "downsample = resample(negative, replace = False, random_state = 42, n_samples = 841)\n",
    "\n",
    "combined = pd.concat([positive, downsample], axis=0)\n",
    "combined.shape\n",
    "\n",
    "# shuffle the dataset\n",
    "from sklearn.utils import shuffle\n",
    "\n",
    "balancedDF = shuffle(combined, random_state = 42)\n",
    "# balancedDF.shape\n",
    "# balancedDF.head()\n",
    "balancedDF.closed_deal.value_counts(normalize=True)\n",
    "\n",
    "# Train and test split\n",
    "from sklearn.model_selection import train_test_split\n",
    "\n",
    "col_list = ['landing_page_id_alt', 'origin', 'weekday_ind']\n",
    "train, test = train_test_split(balancedDF, test_size = 0.2, random_state = 42)\n",
    "train.shape\n",
    "test.shape\n",
    "\n",
    "train_x = train[col_list]\n",
    "train_Y = train['closed_deal']\n",
    "\n",
    "test_x = test[col_list]\n",
    "test_Y = test['closed_deal']\n",
    "\n",
    "# train_x.head()\n",
    "# train_Y.value_counts(normalize=True)\n",
    "# test_Y.value_counts(normalize=True)\n",
    "\n",
    "# Imputer\n",
    "print(\"Number of NULL origin values - \" + str(len(train_x[train_x['origin'].isna()])))\n",
    "\n",
    "from sklearn.impute import SimpleImputer\n",
    "imp = SimpleImputer(strategy='most_frequent')\n",
    "train_x_imp = pd.DataFrame(imp.fit_transform(train_x), columns=train_x.columns)\n",
    "# train_x_imp.head()\n",
    "\n",
    "print(\"Number of NULL origin values - \" + str(len(train_x_imp[train_x_imp['origin'].isna()])))\n",
    "\n",
    "# One Hot Encoder\n",
    "train_x_tr1 = pd.get_dummies(train_x_imp[['landing_page_id_alt', 'origin']], columns=['landing_page_id_alt', 'origin'])\n",
    "train_x_tr  = pd.concat([train_x_tr1, train_x_imp.weekday_ind], axis=1)\n",
    "train_x_tr.head()\n",
    "train_x_tr.shape"
   ]
  },
  {
   "cell_type": "markdown",
   "metadata": {},
   "source": [
    "## Logistic Regression"
   ]
  },
  {
   "cell_type": "code",
   "execution_count": 48,
   "metadata": {},
   "outputs": [
    {
     "name": "stdout",
     "output_type": "stream",
     "text": [
      "Features selected are: \n",
      "Index(['landing_page_id_alt_22c29808c4f815213303f8933030604c',\n",
      "       'landing_page_id_alt_40dec9f3d5259a3d2dbcdab2114fae47',\n",
      "       'landing_page_id_alt_58326e62183c14b0c03085c33b9fdc44',\n",
      "       'landing_page_id_alt_73f31a40697cc90a86c1273563ac230e',\n",
      "       'landing_page_id_alt_88740e65d5d6b056e0cda098e1ea6313',\n",
      "       'landing_page_id_alt_a7982125ff7aa3b2054c6e44f9d28522',\n",
      "       'landing_page_id_alt_b76ef37428e6799c421989521c0e5077',\n",
      "       'landing_page_id_alt_ce1a65abd0973638f1c887a6efcfa82d',\n",
      "       'landing_page_id_alt_e492ee5eaf1697716985cc6f33f9cd9b',\n",
      "       'landing_page_id_alt_f017be4dbf86243af5c1ebed0cff36a2',\n",
      "       'landing_page_id_alt_other', 'origin_direct_traffic', 'origin_display',\n",
      "       'origin_email', 'origin_organic_search', 'origin_other',\n",
      "       'origin_other_publicities', 'origin_paid_search', 'origin_referral',\n",
      "       'origin_social', 'weekday_ind'],\n",
      "      dtype='object')\n"
     ]
    },
    {
     "data": {
      "text/plain": [
       "GridSearchCV(cv=3, error_score='raise-deprecating',\n",
       "       estimator=LogisticRegression(C=1.0, class_weight=None, dual=False, fit_intercept=True,\n",
       "          intercept_scaling=1, max_iter=100, multi_class='warn',\n",
       "          n_jobs=None, penalty='l2', random_state=42, solver='warn',\n",
       "          tol=0.0001, verbose=0, warm_start=False),\n",
       "       fit_params=None, iid='warn', n_jobs=None,\n",
       "       param_grid=[{'C': [1, 2, 3, 4, 5, 6, 7, 8, 9, 10, 30, 60, 100], 'penalty': ['l1']}],\n",
       "       pre_dispatch='2*n_jobs', refit=True, return_train_score=True,\n",
       "       scoring='accuracy', verbose=0)"
      ]
     },
     "execution_count": 48,
     "metadata": {},
     "output_type": "execute_result"
    },
    {
     "name": "stdout",
     "output_type": "stream",
     "text": [
      "Best params selected by Grid Search - {'C': 60, 'penalty': 'l1'}\n",
      "Best score selected by Grid Search - 0.6475836431226766\n",
      "\n",
      "\n",
      "Accuracy of the model is - 0.6505576208178439\n",
      "CV Accuracy Scores are - [0.63919822 0.63616071 0.66741071]\n",
      "\n",
      "\n",
      "Confusion Matrix:\n"
     ]
    },
    {
     "data": {
      "text/plain": [
       "array([[500, 188],\n",
       "       [286, 371]])"
      ]
     },
     "execution_count": 48,
     "metadata": {},
     "output_type": "execute_result"
    },
    {
     "name": "stdout",
     "output_type": "stream",
     "text": [
      "Precision of the model is - 0.6636851520572451\n",
      "Recall of the model is - 0.5646879756468798\n",
      "ROC AUC score of the model is - 0.6457160808466957\n"
     ]
    },
    {
     "data": {
      "image/png": "[encoded data removed]",
      "text/plain": [
       "<Figure size 1080x720 with 1 Axes>"
      ]
     },
     "metadata": {},
     "output_type": "display_data"
    },
    {
     "name": "stdout",
     "output_type": "stream",
     "text": [
      "Feature Importance Absolute Values:\n"
     ]
    },
    {
     "data": {
      "text/plain": [
       "landing_page_id_alt_e492ee5eaf1697716985cc6f33f9cd9b    1.505625\n",
       "landing_page_id_alt_73f31a40697cc90a86c1273563ac230e    1.137318\n",
       "landing_page_id_alt_b76ef37428e6799c421989521c0e5077    0.757768\n",
       "origin_email                                            0.703172\n",
       "landing_page_id_alt_f017be4dbf86243af5c1ebed0cff36a2    0.695404\n",
       "landing_page_id_alt_22c29808c4f815213303f8933030604c    0.686527\n",
       "origin_other_publicities                                0.679739\n",
       "landing_page_id_alt_58326e62183c14b0c03085c33b9fdc44    0.565456\n",
       "landing_page_id_alt_other                               0.486622\n",
       "landing_page_id_alt_40dec9f3d5259a3d2dbcdab2114fae47    0.482413\n",
       "landing_page_id_alt_ce1a65abd0973638f1c887a6efcfa82d    0.416516\n",
       "origin_other                                            0.415021\n",
       "landing_page_id_alt_88740e65d5d6b056e0cda098e1ea6313    0.404033\n",
       "origin_display                                          0.340289\n",
       "landing_page_id_alt_a7982125ff7aa3b2054c6e44f9d28522    0.308421\n",
       "origin_social                                           0.178972\n",
       "origin_referral                                         0.171018\n",
       "weekday_ind                                             0.169816\n",
       "origin_paid_search                                      0.164901\n",
       "origin_direct_traffic                                   0.099634\n",
       "origin_organic_search                                   0.000000\n",
       "dtype: float64"
      ]
     },
     "execution_count": 48,
     "metadata": {},
     "output_type": "execute_result"
    },
    {
     "name": "stdout",
     "output_type": "stream",
     "text": [
      "Feature Importance:\n"
     ]
    },
    {
     "data": {
      "text/plain": [
       "landing_page_id_alt_b76ef37428e6799c421989521c0e5077    0.757768\n",
       "landing_page_id_alt_22c29808c4f815213303f8933030604c    0.686527\n",
       "landing_page_id_alt_40dec9f3d5259a3d2dbcdab2114fae47    0.482413\n",
       "landing_page_id_alt_ce1a65abd0973638f1c887a6efcfa82d    0.416516\n",
       "landing_page_id_alt_a7982125ff7aa3b2054c6e44f9d28522    0.308421\n",
       "origin_referral                                         0.171018\n",
       "weekday_ind                                             0.169816\n",
       "origin_paid_search                                      0.164901\n",
       "origin_direct_traffic                                   0.099634\n",
       "origin_organic_search                                   0.000000\n",
       "origin_social                                          -0.178972\n",
       "origin_display                                         -0.340289\n",
       "landing_page_id_alt_88740e65d5d6b056e0cda098e1ea6313   -0.404033\n",
       "origin_other                                           -0.415021\n",
       "landing_page_id_alt_other                              -0.486622\n",
       "landing_page_id_alt_58326e62183c14b0c03085c33b9fdc44   -0.565456\n",
       "origin_other_publicities                               -0.679739\n",
       "landing_page_id_alt_f017be4dbf86243af5c1ebed0cff36a2   -0.695404\n",
       "origin_email                                           -0.703172\n",
       "landing_page_id_alt_73f31a40697cc90a86c1273563ac230e   -1.137318\n",
       "landing_page_id_alt_e492ee5eaf1697716985cc6f33f9cd9b   -1.505625\n",
       "dtype: float64"
      ]
     },
     "execution_count": 48,
     "metadata": {},
     "output_type": "execute_result"
    }
   ],
   "source": [
    "from sklearn.feature_selection import RFE\n",
    "from sklearn.linear_model import LogisticRegression\n",
    "from sklearn.metrics import accuracy_score, precision_score, recall_score, precision_recall_curve, f1_score, confusion_matrix, roc_auc_score\n",
    "from sklearn.model_selection import cross_val_score, cross_val_predict\n",
    "from sklearn.metrics import precision_recall_curve\n",
    "from sklearn.model_selection import GridSearchCV\n",
    "\n",
    "n_fea = 21 # number of features for RFE\n",
    "scoring = 'accuracy'\n",
    "param_grid = [\n",
    "    {'penalty' : ['l2'], 'C' : [1, 2, 3, 4, 5, 6, 7, 8, 9, 10, 30, 60, 100], # ridge\n",
    "     'penalty' : ['l1'], 'C' : [1, 2, 3, 4, 5, 6, 7, 8, 9, 10, 30, 60, 100] # lasso\n",
    "    }] # param grid for GridSearchCV\n",
    "logreg_clf = LogisticRegression(random_state = 42, fit_intercept=True) # log reg model initialize\n",
    "rfe = RFE(logreg_clf, n_fea) # pass log reg model to RFE with number of features \n",
    "selector = rfe.fit(train_x_tr, train_Y) # fit the RFE selector\n",
    "print(\"Features selected are: \")\n",
    "print(train_x_tr.columns[selector.support_])\n",
    "\n",
    "grid_search = GridSearchCV(logreg_clf, param_grid, cv = 3,\n",
    "                           scoring = scoring,\n",
    "                           return_train_score = True)\n",
    "\n",
    "train_x_tr_sel = selector.transform(train_x_tr) # use transform to get RFE seletcted features\n",
    "# train_x_tr_sel.shape\n",
    "\n",
    "grid_search.fit(train_x_tr_sel, train_Y) # fit the log reg model with selected RFE features\n",
    "print(\"Best params selected by Grid Search - \" + str(grid_search.best_params_))\n",
    "print(\"Best score selected by Grid Search - \" + str(grid_search.best_score_))\n",
    "print(\"\\n\")\n",
    "\n",
    "train_y_pred = grid_search.predict(train_x_tr_sel)\n",
    "\n",
    "print(\"Accuracy of the model is - \" + str(accuracy_score(train_Y, train_y_pred)))\n",
    "print(\"CV Accuracy Scores are - \" + str(cross_val_score(grid_search.best_estimator_, train_x_tr_sel, \n",
    "                                                        train_Y, cv = 3, scoring = scoring)))\n",
    "\n",
    "train_Y_pred_cv = cross_val_predict(grid_search.best_estimator_, train_x_tr_sel, train_Y, cv = 3)\n",
    "print(\"\\n\")\n",
    "print(\"Confusion Matrix:\")\n",
    "confusion_matrix(train_Y, train_Y_pred_cv)\n",
    "print(\"Precision of the model is - \" + str(precision_score(train_Y, train_Y_pred_cv)))\n",
    "print(\"Recall of the model is - \" + str(recall_score(train_Y, train_Y_pred_cv)))\n",
    "print(\"ROC AUC score of the model is - \" + str(roc_auc_score(train_Y, train_Y_pred_cv)))\n",
    "\n",
    "y_scores = cross_val_predict(grid_search.best_estimator_, train_x_tr_sel, train_Y, cv=3, method=\"decision_function\")\n",
    "precisions, recalls, thresholds = precision_recall_curve(train_Y, y_scores)\n",
    "\n",
    "def plot_precision_recall_vs_threshold(precisions, recalls, thresholds):\n",
    "    plt.plot(thresholds, precisions[:-1], \"b--\", label=\"Precision\")\n",
    "    plt.plot(thresholds, recalls[:-1], \"g-\", label=\"Recall\")\n",
    "    plt.xlabel(\"Threshold\")\n",
    "    plt.legend(loc=\"upper right\")\n",
    "    plt.ylim([0, 1])\n",
    "\n",
    "plot_precision_recall_vs_threshold(precisions, recalls, thresholds)\n",
    "plt.show()\n",
    "\n",
    "print(\"Feature Importance Absolute Values:\")\n",
    "feature_importance = pd.Series(index = train_x_tr.columns[selector.support_],\n",
    "                               data = np.abs(grid_search.best_estimator_.coef_[0])).sort_values(ascending = False)\n",
    "feature_importance.head(n=n_fea)\n",
    "\n",
    "print(\"Feature Importance:\")\n",
    "feature_importance = pd.Series(index = train_x_tr.columns[selector.support_],\n",
    "                               data = grid_search.best_estimator_.coef_[0]).sort_values(ascending = False)\n",
    "feature_importance.head(n=n_fea)"
   ]
  },
  {
   "cell_type": "markdown",
   "metadata": {},
   "source": [
    "#### Scoring  the Logistic Regression Model"
   ]
  },
  {
   "cell_type": "code",
   "execution_count": 49,
   "metadata": {},
   "outputs": [
    {
     "name": "stdout",
     "output_type": "stream",
     "text": [
      "Train Accuracy Score - 0.6475836431226766\n",
      "Test Accuracy Score - 0.629080118694362\n"
     ]
    }
   ],
   "source": [
    "test_x_imp = pd.DataFrame(imp.fit_transform(test_x), columns=test_x.columns)\n",
    "\n",
    "test_x_tr1 = pd.get_dummies(test_x_imp[['landing_page_id_alt', 'origin']], columns=['landing_page_id_alt', 'origin'])\n",
    "test_x_tr  = pd.concat([test_x_tr1, test_x_imp.weekday_ind], axis=1)\n",
    "\n",
    "print(\"Train Accuracy Score - \" + str(grid_search.best_score_))\n",
    "print(\"Test Accuracy Score - \" + str(grid_search.score(test_x_tr[test_x_tr.columns[selector.support_]], test_Y)))\n",
    "# slight reduction in generalization accuracy score"
   ]
  },
  {
   "cell_type": "markdown",
   "metadata": {},
   "source": [
    "## Decision Tree"
   ]
  },
  {
   "cell_type": "code",
   "execution_count": 50,
   "metadata": {},
   "outputs": [],
   "source": [
    "train_x_tr_new = train_x_tr.copy()\n",
    "train_x_tr_new.drop('landing_page_id_alt_other', inplace=True, axis = 1)\n",
    "# train_x_tr_new.head()"
   ]
  },
  {
   "cell_type": "code",
   "execution_count": 51,
   "metadata": {},
   "outputs": [
    {
     "name": "stdout",
     "output_type": "stream",
     "text": [
      "Features selected are: \n",
      "Index(['landing_page_id_alt_22c29808c4f815213303f8933030604c',\n",
      "       'landing_page_id_alt_40dec9f3d5259a3d2dbcdab2114fae47',\n",
      "       'landing_page_id_alt_58326e62183c14b0c03085c33b9fdc44',\n",
      "       'landing_page_id_alt_73f31a40697cc90a86c1273563ac230e',\n",
      "       'landing_page_id_alt_88740e65d5d6b056e0cda098e1ea6313',\n",
      "       'landing_page_id_alt_a7982125ff7aa3b2054c6e44f9d28522',\n",
      "       'landing_page_id_alt_b76ef37428e6799c421989521c0e5077',\n",
      "       'landing_page_id_alt_ce1a65abd0973638f1c887a6efcfa82d',\n",
      "       'landing_page_id_alt_e492ee5eaf1697716985cc6f33f9cd9b',\n",
      "       'landing_page_id_alt_f017be4dbf86243af5c1ebed0cff36a2',\n",
      "       'origin_direct_traffic', 'origin_display', 'origin_email',\n",
      "       'origin_organic_search', 'origin_other', 'origin_other_publicities',\n",
      "       'origin_paid_search', 'origin_referral', 'origin_social',\n",
      "       'weekday_ind'],\n",
      "      dtype='object')\n"
     ]
    },
    {
     "data": {
      "text/plain": [
       "GridSearchCV(cv=3, error_score='raise-deprecating',\n",
       "       estimator=DecisionTreeClassifier(class_weight=None, criterion='gini', max_depth=None,\n",
       "            max_features=None, max_leaf_nodes=None,\n",
       "            min_impurity_decrease=0.0, min_impurity_split=None,\n",
       "            min_samples_leaf=1, min_samples_split=2,\n",
       "            min_weight_fraction_leaf=0.0, presort=False, random_state=42,\n",
       "            splitter='best'),\n",
       "       fit_params=None, iid='warn', n_jobs=None,\n",
       "       param_grid=[{'max_depth': [2, 3, 4, 5], 'min_samples_split': [5, 10, 25, 50, 100, 200], 'criterion': ['gini'], 'max_leaf_nodes': [5, 10, 15, 20]}],\n",
       "       pre_dispatch='2*n_jobs', refit=True, return_train_score=True,\n",
       "       scoring='accuracy', verbose=0)"
      ]
     },
     "execution_count": 51,
     "metadata": {},
     "output_type": "execute_result"
    },
    {
     "name": "stdout",
     "output_type": "stream",
     "text": [
      "Best params selected by Grid Search - {'max_depth': 4, 'min_samples_split': 200, 'criterion': 'gini', 'max_leaf_nodes': 10}\n",
      "Best score selected by Grid Search - 0.6312267657992565\n",
      "\n",
      "\n",
      "Accuracy of the model is - 0.6468401486988847\n",
      "CV Accuracy Scores are - [0.63919822 0.58928571 0.625     ]\n",
      "\n",
      "\n",
      "Confusion Matrix:\n"
     ]
    },
    {
     "data": {
      "text/plain": [
       "array([[468, 220],\n",
       "       [294, 363]])"
      ]
     },
     "execution_count": 51,
     "metadata": {},
     "output_type": "execute_result"
    },
    {
     "name": "stdout",
     "output_type": "stream",
     "text": [
      "Precision of the model is - 0.6226415094339622\n",
      "Recall of the model is - 0.5525114155251142\n",
      "ROC AUC score of the model is - 0.6163719868323245\n",
      "\n",
      "\n",
      "Feature Importance:\n"
     ]
    },
    {
     "data": {
      "text/plain": [
       "landing_page_id_alt_22c29808c4f815213303f8933030604c    0.366961\n",
       "landing_page_id_alt_b76ef37428e6799c421989521c0e5077    0.291985\n",
       "landing_page_id_alt_40dec9f3d5259a3d2dbcdab2114fae47    0.154519\n",
       "landing_page_id_alt_ce1a65abd0973638f1c887a6efcfa82d    0.117115\n",
       "landing_page_id_alt_e492ee5eaf1697716985cc6f33f9cd9b    0.053598\n",
       "weekday_ind                                             0.015821\n",
       "dtype: float64"
      ]
     },
     "execution_count": 51,
     "metadata": {},
     "output_type": "execute_result"
    }
   ],
   "source": [
    "from sklearn.tree import DecisionTreeClassifier\n",
    "\n",
    "# train_x_tr_new.drop('landing_page_id_alt_other', inplace=True, axis = 1)\n",
    "n_fea = 22\n",
    "param_grid = [\n",
    "    {'criterion' : ['gini'], 'max_depth' : [2, 3, 4, 5],\n",
    "     'min_samples_split' : [5, 10, 25, 50, 100, 200],\n",
    "     'max_leaf_nodes' : [5, 10, 15, 20]\n",
    "    }] # param grid for GridSearchCV\n",
    "dt_clf = DecisionTreeClassifier(random_state = 42) # DT model initialize\n",
    "rfe = RFE(dt_clf, n_fea) # pass DT model to RFE with number of features \n",
    "selector_dt = rfe.fit(train_x_tr_new, train_Y) # fit the RFE selector_dt\n",
    "print(\"Features selected are: \")\n",
    "print(train_x_tr_new.columns[selector_dt.support_])\n",
    "\n",
    "grid_search_dt = GridSearchCV(dt_clf, param_grid, cv = 3,\n",
    "                           scoring='accuracy', return_train_score=True)\n",
    "\n",
    "train_x_tr_new_sel = selector_dt.transform(train_x_tr_new) # use transform to get RFE seletcted features\n",
    "# train_x_tr_new_sel.shape\n",
    "\n",
    "grid_search_dt.fit(train_x_tr_new_sel, train_Y) # fit the log reg model with selected RFE features\n",
    "print(\"Best params selected by Grid Search - \" + str(grid_search_dt.best_params_))\n",
    "print(\"Best score selected by Grid Search - \" + str(grid_search_dt.best_score_))\n",
    "print(\"\\n\")\n",
    "\n",
    "\n",
    "train_y_pred = grid_search_dt.predict(train_x_tr_new_sel)\n",
    "\n",
    "print(\"Accuracy of the model is - \" + str(accuracy_score(train_Y, train_y_pred)))\n",
    "print(\"CV Accuracy Scores are - \" + str(cross_val_score(grid_search_dt, train_x_tr_new_sel, train_Y, cv = 3, \n",
    "                                                      scoring = 'accuracy')))\n",
    "\n",
    "train_Y_pred_cv = cross_val_predict(grid_search_dt, train_x_tr_new_sel, train_Y, cv = 3)\n",
    "print(\"\\n\")\n",
    "print(\"Confusion Matrix:\")\n",
    "confusion_matrix(train_Y, train_Y_pred_cv)\n",
    "print(\"Precision of the model is - \" + str(precision_score(train_Y, train_Y_pred_cv)))\n",
    "print(\"Recall of the model is - \" + str(recall_score(train_Y, train_Y_pred_cv)))\n",
    "print(\"ROC AUC score of the model is - \" + str(roc_auc_score(train_Y, train_Y_pred_cv)))\n",
    "\n",
    "print(\"\\n\")\n",
    "print(\"Feature Importance:\")\n",
    "feature_importance = pd.Series(index = train_x_tr_new.columns[selector_dt.support_],\n",
    "                data = np.abs(grid_search_dt.best_estimator_.feature_importances_)).sort_values(ascending = False)\n",
    "feature_importance[feature_importance>0]"
   ]
  },
  {
   "cell_type": "markdown",
   "metadata": {},
   "source": [
    "#### Scoring the Decision Tree Classifier"
   ]
  },
  {
   "cell_type": "code",
   "execution_count": 52,
   "metadata": {},
   "outputs": [
    {
     "name": "stdout",
     "output_type": "stream",
     "text": [
      "Train Accuracy Score - 0.6312267657992565\n",
      "Test Accuracy Score - 0.6320474777448071\n"
     ]
    }
   ],
   "source": [
    "test_x_tr_new = test_x_tr.copy()\n",
    "test_x_tr_new.drop('landing_page_id_alt_other', inplace=True, axis = 1)\n",
    "print(\"Train Accuracy Score - \" + str(grid_search_dt.best_score_))\n",
    "print(\"Test Accuracy Score - \" + str(grid_search_dt.score(test_x_tr_new[test_x_tr_new.columns[selector_dt.support_]], test_Y)))\n",
    "# perrforimg well on the test dataset"
   ]
  },
  {
   "cell_type": "markdown",
   "metadata": {},
   "source": [
    "## Random Forest"
   ]
  },
  {
   "cell_type": "code",
   "execution_count": 54,
   "metadata": {},
   "outputs": [
    {
     "name": "stdout",
     "output_type": "stream",
     "text": [
      "Features selected are: \n",
      "Index(['landing_page_id_alt_22c29808c4f815213303f8933030604c',\n",
      "       'landing_page_id_alt_40dec9f3d5259a3d2dbcdab2114fae47',\n",
      "       'landing_page_id_alt_88740e65d5d6b056e0cda098e1ea6313',\n",
      "       'landing_page_id_alt_a7982125ff7aa3b2054c6e44f9d28522',\n",
      "       'landing_page_id_alt_b76ef37428e6799c421989521c0e5077',\n",
      "       'landing_page_id_alt_ce1a65abd0973638f1c887a6efcfa82d',\n",
      "       'landing_page_id_alt_e492ee5eaf1697716985cc6f33f9cd9b',\n",
      "       'landing_page_id_alt_f017be4dbf86243af5c1ebed0cff36a2',\n",
      "       'origin_direct_traffic', 'origin_email', 'origin_organic_search',\n",
      "       'origin_paid_search', 'origin_referral', 'origin_social',\n",
      "       'weekday_ind'],\n",
      "      dtype='object')\n"
     ]
    },
    {
     "data": {
      "text/plain": [
       "GridSearchCV(cv=3, error_score='raise-deprecating',\n",
       "       estimator=RandomForestClassifier(bootstrap=True, class_weight=None, criterion='gini',\n",
       "            max_depth=None, max_features='auto', max_leaf_nodes=None,\n",
       "            min_impurity_decrease=0.0, min_impurity_split=None,\n",
       "            min_samples_leaf=1, min_samples_split=2,\n",
       "            min_weight_fraction_leaf=0.0, n_estimators='warn', n_jobs=-1,\n",
       "            oob_score=False, random_state=42, verbose=0, warm_start=False),\n",
       "       fit_params=None, iid='warn', n_jobs=None,\n",
       "       param_grid=[{'max_depth': [2, 3, 4, 5], 'min_samples_split': [5, 10, 25, 30, 40, 50], 'criterion': ['gini'], 'max_leaf_nodes': [5, 10, 15, 20], 'n_estimators': [100]}],\n",
       "       pre_dispatch='2*n_jobs', refit=True, return_train_score=True,\n",
       "       scoring='accuracy', verbose=0)"
      ]
     },
     "execution_count": 54,
     "metadata": {},
     "output_type": "execute_result"
    },
    {
     "name": "stdout",
     "output_type": "stream",
     "text": [
      "Best params selected by Grid Search - {'max_depth': 4, 'min_samples_split': 10, 'criterion': 'gini', 'max_leaf_nodes': 10, 'n_estimators': 100}\n",
      "Best score selected by Grid Search - 0.6327137546468401\n",
      "\n",
      "\n",
      "Accuracy of the model is - 0.649814126394052\n",
      "CV Accuracy Scores are - [0.62806236 0.61830357 0.64732143]\n",
      "\n",
      "\n",
      "Confusion Matrix:\n"
     ]
    },
    {
     "data": {
      "text/plain": [
       "array([[526, 162],\n",
       "       [334, 323]])"
      ]
     },
     "execution_count": 54,
     "metadata": {},
     "output_type": "execute_result"
    },
    {
     "name": "stdout",
     "output_type": "stream",
     "text": [
      "Precision of the model is - 0.6659793814432989\n",
      "Recall of the model is - 0.4916286149162861\n",
      "ROC AUC score of the model is - 0.6280817493186083\n",
      "\n",
      "\n",
      "Feature Importance:\n"
     ]
    },
    {
     "data": {
      "text/plain": [
       "landing_page_id_alt_b76ef37428e6799c421989521c0e5077    0.252320\n",
       "landing_page_id_alt_22c29808c4f815213303f8933030604c    0.164230\n",
       "landing_page_id_alt_e492ee5eaf1697716985cc6f33f9cd9b    0.091536\n",
       "landing_page_id_alt_40dec9f3d5259a3d2dbcdab2114fae47    0.077524\n",
       "origin_social                                           0.076567\n",
       "origin_organic_search                                   0.074017\n",
       "origin_email                                            0.055083\n",
       "origin_paid_search                                      0.042209\n",
       "landing_page_id_alt_ce1a65abd0973638f1c887a6efcfa82d    0.040071\n",
       "weekday_ind                                             0.032526\n",
       "landing_page_id_alt_f017be4dbf86243af5c1ebed0cff36a2    0.029075\n",
       "landing_page_id_alt_88740e65d5d6b056e0cda098e1ea6313    0.024658\n",
       "origin_direct_traffic                                   0.015728\n",
       "origin_referral                                         0.014384\n",
       "landing_page_id_alt_a7982125ff7aa3b2054c6e44f9d28522    0.010073\n",
       "dtype: float64"
      ]
     },
     "execution_count": 54,
     "metadata": {},
     "output_type": "execute_result"
    }
   ],
   "source": [
    "from sklearn.ensemble import RandomForestClassifier\n",
    "\n",
    "n_fea = 15\n",
    "param_grid = [\n",
    "    {'criterion' : ['gini'], 'max_depth' : [2, 3, 4, 5],\n",
    "     'min_samples_split' : [5, 10, 25, 30, 40, 50],\n",
    "     'max_leaf_nodes' : [5, 10, 15, 20],\n",
    "     'n_estimators' : [100]\n",
    "    }] # param grid for GridSearchCV\n",
    "rf_clf = RandomForestClassifier(random_state = 42, n_jobs = -1) # DT model initialize\n",
    "rfe = RFE(rf_clf, n_fea) # pass DT model to RFE with number of features \n",
    "selector_rf = rfe.fit(train_x_tr_new, train_Y) # fit the RFE selector_rf\n",
    "print(\"Features selected are: \")\n",
    "print(train_x_tr_new.columns[selector_rf.support_])\n",
    "\n",
    "grid_search_rf = GridSearchCV(rf_clf, param_grid, cv = 3,\n",
    "                           scoring='accuracy', return_train_score=True)\n",
    "\n",
    "train_x_tr_new_sel = selector_rf.transform(train_x_tr_new) # use transform to get RFE seletcted features\n",
    "# train_x_tr_new_sel.shape\n",
    "\n",
    "grid_search_rf.fit(train_x_tr_new_sel, train_Y) # fit the log reg model with selected RFE features\n",
    "print(\"Best params selected by Grid Search - \" + str(grid_search_rf.best_params_))\n",
    "print(\"Best score selected by Grid Search - \" + str(grid_search_rf.best_score_))\n",
    "print(\"\\n\")\n",
    "\n",
    "\n",
    "train_y_pred = grid_search_rf.predict(train_x_tr_new_sel)\n",
    "\n",
    "print(\"Accuracy of the model is - \" + str(accuracy_score(train_Y, train_y_pred)))\n",
    "print(\"CV Accuracy Scores are - \" + str(cross_val_score(grid_search_rf, train_x_tr_new_sel, train_Y, cv = 3, \n",
    "                                                      scoring = 'accuracy')))\n",
    "\n",
    "train_Y_pred_cv = cross_val_predict(grid_search_rf, train_x_tr_new_sel, train_Y, cv = 3)\n",
    "print(\"\\n\")\n",
    "print(\"Confusion Matrix:\")\n",
    "confusion_matrix(train_Y, train_Y_pred_cv)\n",
    "print(\"Precision of the model is - \" + str(precision_score(train_Y, train_Y_pred_cv)))\n",
    "print(\"Recall of the model is - \" + str(recall_score(train_Y, train_Y_pred_cv)))\n",
    "print(\"ROC AUC score of the model is - \" + str(roc_auc_score(train_Y, train_Y_pred_cv)))\n",
    "\n",
    "print(\"\\n\")\n",
    "print(\"Feature Importance:\")\n",
    "feature_importance = pd.Series(index = train_x_tr_new.columns[selector_rf.support_],\n",
    "                data = np.abs(grid_search_rf.best_estimator_.feature_importances_)).sort_values(ascending = False)\n",
    "feature_importance[feature_importance>0]"
   ]
  },
  {
   "cell_type": "markdown",
   "metadata": {},
   "source": [
    "#### Scoring the Random Forest Classifier"
   ]
  },
  {
   "cell_type": "code",
   "execution_count": 56,
   "metadata": {},
   "outputs": [
    {
     "name": "stdout",
     "output_type": "stream",
     "text": [
      "Train Accuracy Score - 0.6327137546468401\n",
      "Test Accuracy Score - 0.6023738872403561\n"
     ]
    }
   ],
   "source": [
    "print(\"Train Accuracy Score - \" + str(grid_search_rf.best_score_))\n",
    "print(\"Test Accuracy Score - \" + str(grid_search_rf.score(test_x_tr_new[test_x_tr_new.columns[selector_rf.support_]], test_Y)))\n",
    "# slight reduction in generalization score"
   ]
  },
  {
   "cell_type": "code",
   "execution_count": null,
   "metadata": {},
   "outputs": [],
   "source": []
  }
 ],
 "metadata": {
  "kernelspec": {
   "display_name": "Python 3",
   "language": "python",
   "name": "python3"
  },
  "language_info": {
   "codemirror_mode": {
    "name": "ipython",
    "version": 3
   },
   "file_extension": ".py",
   "mimetype": "text/x-python",
   "name": "python",
   "nbconvert_exporter": "python",
   "pygments_lexer": "ipython3",
   "version": "3.5.6"
  }
 },
 "nbformat": 4,
 "nbformat_minor": 2
}
